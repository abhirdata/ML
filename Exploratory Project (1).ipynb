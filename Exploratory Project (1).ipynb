{
 "cells": [
  {
   "cell_type": "code",
   "execution_count": 96,
   "id": "18913dfb",
   "metadata": {},
   "outputs": [],
   "source": [
    "import pandas as pd\n",
    "import numpy as np\n",
    "import matplotlib.pyplot as plt\n",
    "import seaborn as sns"
   ]
  },
  {
   "cell_type": "code",
   "execution_count": 97,
   "id": "df2783ee",
   "metadata": {},
   "outputs": [],
   "source": [
    "ed=pd.read_csv(\"C:\\\\Users\\\\rabhi\\\\OneDrive\\\\Documents\\\\Explo_Dataset.csv\")"
   ]
  },
  {
   "cell_type": "code",
   "execution_count": 98,
   "id": "1357a23d",
   "metadata": {},
   "outputs": [
    {
     "data": {
      "text/html": [
       "<div>\n",
       "<style scoped>\n",
       "    .dataframe tbody tr th:only-of-type {\n",
       "        vertical-align: middle;\n",
       "    }\n",
       "\n",
       "    .dataframe tbody tr th {\n",
       "        vertical-align: top;\n",
       "    }\n",
       "\n",
       "    .dataframe thead th {\n",
       "        text-align: right;\n",
       "    }\n",
       "</style>\n",
       "<table border=\"1\" class=\"dataframe\">\n",
       "  <thead>\n",
       "    <tr style=\"text-align: right;\">\n",
       "      <th></th>\n",
       "      <th>Unnamed: 0</th>\n",
       "      <th>nctid</th>\n",
       "      <th>target_label</th>\n",
       "      <th>number_collaborators</th>\n",
       "      <th>number_officials</th>\n",
       "      <th>num_arms</th>\n",
       "      <th>number_countries</th>\n",
       "      <th>number_sites</th>\n",
       "      <th>no_elig_req</th>\n",
       "      <th>inclusion_lines</th>\n",
       "      <th>...</th>\n",
       "      <th>91</th>\n",
       "      <th>92</th>\n",
       "      <th>93</th>\n",
       "      <th>94</th>\n",
       "      <th>95</th>\n",
       "      <th>96</th>\n",
       "      <th>97</th>\n",
       "      <th>98</th>\n",
       "      <th>99</th>\n",
       "      <th>Result</th>\n",
       "    </tr>\n",
       "  </thead>\n",
       "  <tbody>\n",
       "    <tr>\n",
       "      <th>0</th>\n",
       "      <td>0</td>\n",
       "      <td>NCT01923116</td>\n",
       "      <td>0</td>\n",
       "      <td>2</td>\n",
       "      <td>2</td>\n",
       "      <td>1</td>\n",
       "      <td>1</td>\n",
       "      <td>1</td>\n",
       "      <td>0</td>\n",
       "      <td>6</td>\n",
       "      <td>...</td>\n",
       "      <td>-3.300040</td>\n",
       "      <td>1.487360</td>\n",
       "      <td>1.478261</td>\n",
       "      <td>2.550636</td>\n",
       "      <td>1.517649</td>\n",
       "      <td>1.237359</td>\n",
       "      <td>3.249761</td>\n",
       "      <td>1.415775</td>\n",
       "      <td>1.477161</td>\n",
       "      <td>['Completed']</td>\n",
       "    </tr>\n",
       "    <tr>\n",
       "      <th>1</th>\n",
       "      <td>1</td>\n",
       "      <td>NCT01763021</td>\n",
       "      <td>0</td>\n",
       "      <td>0</td>\n",
       "      <td>1</td>\n",
       "      <td>1</td>\n",
       "      <td>1</td>\n",
       "      <td>1</td>\n",
       "      <td>0</td>\n",
       "      <td>2</td>\n",
       "      <td>...</td>\n",
       "      <td>-1.393093</td>\n",
       "      <td>0.940864</td>\n",
       "      <td>0.088683</td>\n",
       "      <td>0.074904</td>\n",
       "      <td>-1.793713</td>\n",
       "      <td>0.749069</td>\n",
       "      <td>1.982955</td>\n",
       "      <td>-1.104483</td>\n",
       "      <td>1.344036</td>\n",
       "      <td>['Completed']</td>\n",
       "    </tr>\n",
       "    <tr>\n",
       "      <th>2</th>\n",
       "      <td>2</td>\n",
       "      <td>NCT01179308</td>\n",
       "      <td>1</td>\n",
       "      <td>0</td>\n",
       "      <td>1</td>\n",
       "      <td>2</td>\n",
       "      <td>2</td>\n",
       "      <td>2</td>\n",
       "      <td>0</td>\n",
       "      <td>3</td>\n",
       "      <td>...</td>\n",
       "      <td>-0.411902</td>\n",
       "      <td>-0.035816</td>\n",
       "      <td>3.557102</td>\n",
       "      <td>-2.521656</td>\n",
       "      <td>-3.917873</td>\n",
       "      <td>0.496561</td>\n",
       "      <td>1.281240</td>\n",
       "      <td>-0.059275</td>\n",
       "      <td>-0.031860</td>\n",
       "      <td>['Terminated']</td>\n",
       "    </tr>\n",
       "    <tr>\n",
       "      <th>3</th>\n",
       "      <td>3</td>\n",
       "      <td>NCT00427778</td>\n",
       "      <td>1</td>\n",
       "      <td>1</td>\n",
       "      <td>1</td>\n",
       "      <td>2</td>\n",
       "      <td>1</td>\n",
       "      <td>1</td>\n",
       "      <td>0</td>\n",
       "      <td>3</td>\n",
       "      <td>...</td>\n",
       "      <td>-1.176595</td>\n",
       "      <td>0.247578</td>\n",
       "      <td>1.944952</td>\n",
       "      <td>-0.830502</td>\n",
       "      <td>0.593395</td>\n",
       "      <td>-2.722616</td>\n",
       "      <td>0.866244</td>\n",
       "      <td>2.003813</td>\n",
       "      <td>1.861063</td>\n",
       "      <td>['Terminated']</td>\n",
       "    </tr>\n",
       "    <tr>\n",
       "      <th>4</th>\n",
       "      <td>4</td>\n",
       "      <td>NCT00376467</td>\n",
       "      <td>0</td>\n",
       "      <td>0</td>\n",
       "      <td>1</td>\n",
       "      <td>0</td>\n",
       "      <td>1</td>\n",
       "      <td>28</td>\n",
       "      <td>0</td>\n",
       "      <td>3</td>\n",
       "      <td>...</td>\n",
       "      <td>-4.341137</td>\n",
       "      <td>1.126694</td>\n",
       "      <td>2.487203</td>\n",
       "      <td>1.253972</td>\n",
       "      <td>-0.105168</td>\n",
       "      <td>3.125254</td>\n",
       "      <td>3.700899</td>\n",
       "      <td>1.906987</td>\n",
       "      <td>3.855995</td>\n",
       "      <td>['Completed']</td>\n",
       "    </tr>\n",
       "    <tr>\n",
       "      <th>...</th>\n",
       "      <td>...</td>\n",
       "      <td>...</td>\n",
       "      <td>...</td>\n",
       "      <td>...</td>\n",
       "      <td>...</td>\n",
       "      <td>...</td>\n",
       "      <td>...</td>\n",
       "      <td>...</td>\n",
       "      <td>...</td>\n",
       "      <td>...</td>\n",
       "      <td>...</td>\n",
       "      <td>...</td>\n",
       "      <td>...</td>\n",
       "      <td>...</td>\n",
       "      <td>...</td>\n",
       "      <td>...</td>\n",
       "      <td>...</td>\n",
       "      <td>...</td>\n",
       "      <td>...</td>\n",
       "      <td>...</td>\n",
       "      <td>...</td>\n",
       "    </tr>\n",
       "    <tr>\n",
       "      <th>999</th>\n",
       "      <td>1000</td>\n",
       "      <td>NCT01833390</td>\n",
       "      <td>0</td>\n",
       "      <td>3</td>\n",
       "      <td>2</td>\n",
       "      <td>1</td>\n",
       "      <td>1</td>\n",
       "      <td>1</td>\n",
       "      <td>0</td>\n",
       "      <td>0</td>\n",
       "      <td>...</td>\n",
       "      <td>-1.496434</td>\n",
       "      <td>0.708324</td>\n",
       "      <td>2.234029</td>\n",
       "      <td>-0.475935</td>\n",
       "      <td>-1.077623</td>\n",
       "      <td>1.361815</td>\n",
       "      <td>0.232516</td>\n",
       "      <td>0.161752</td>\n",
       "      <td>-1.495629</td>\n",
       "      <td>['Completed']</td>\n",
       "    </tr>\n",
       "    <tr>\n",
       "      <th>1000</th>\n",
       "      <td>1001</td>\n",
       "      <td>NCT01953250</td>\n",
       "      <td>0</td>\n",
       "      <td>0</td>\n",
       "      <td>1</td>\n",
       "      <td>0</td>\n",
       "      <td>1</td>\n",
       "      <td>1</td>\n",
       "      <td>0</td>\n",
       "      <td>1</td>\n",
       "      <td>...</td>\n",
       "      <td>0.103711</td>\n",
       "      <td>0.753802</td>\n",
       "      <td>0.333810</td>\n",
       "      <td>0.357244</td>\n",
       "      <td>-0.829446</td>\n",
       "      <td>-0.353592</td>\n",
       "      <td>1.204353</td>\n",
       "      <td>0.996685</td>\n",
       "      <td>0.433562</td>\n",
       "      <td>['Completed']</td>\n",
       "    </tr>\n",
       "    <tr>\n",
       "      <th>1001</th>\n",
       "      <td>1002</td>\n",
       "      <td>NCT02048046</td>\n",
       "      <td>0</td>\n",
       "      <td>0</td>\n",
       "      <td>0</td>\n",
       "      <td>0</td>\n",
       "      <td>2</td>\n",
       "      <td>7</td>\n",
       "      <td>0</td>\n",
       "      <td>4</td>\n",
       "      <td>...</td>\n",
       "      <td>-0.503749</td>\n",
       "      <td>0.521038</td>\n",
       "      <td>0.261577</td>\n",
       "      <td>1.188807</td>\n",
       "      <td>1.414945</td>\n",
       "      <td>-1.611976</td>\n",
       "      <td>1.868101</td>\n",
       "      <td>-0.219925</td>\n",
       "      <td>0.007089</td>\n",
       "      <td>['Completed']</td>\n",
       "    </tr>\n",
       "    <tr>\n",
       "      <th>1002</th>\n",
       "      <td>1003</td>\n",
       "      <td>NCT01310582</td>\n",
       "      <td>0</td>\n",
       "      <td>1</td>\n",
       "      <td>1</td>\n",
       "      <td>2</td>\n",
       "      <td>1</td>\n",
       "      <td>1</td>\n",
       "      <td>0</td>\n",
       "      <td>4</td>\n",
       "      <td>...</td>\n",
       "      <td>1.466321</td>\n",
       "      <td>2.024642</td>\n",
       "      <td>0.856290</td>\n",
       "      <td>-1.512640</td>\n",
       "      <td>-0.472398</td>\n",
       "      <td>-3.330396</td>\n",
       "      <td>-1.355578</td>\n",
       "      <td>0.184672</td>\n",
       "      <td>-0.191847</td>\n",
       "      <td>['Completed']</td>\n",
       "    </tr>\n",
       "    <tr>\n",
       "      <th>1003</th>\n",
       "      <td>1004</td>\n",
       "      <td>NCT00738023</td>\n",
       "      <td>0</td>\n",
       "      <td>1</td>\n",
       "      <td>1</td>\n",
       "      <td>2</td>\n",
       "      <td>1</td>\n",
       "      <td>1</td>\n",
       "      <td>0</td>\n",
       "      <td>7</td>\n",
       "      <td>...</td>\n",
       "      <td>-0.819774</td>\n",
       "      <td>0.201326</td>\n",
       "      <td>-0.669276</td>\n",
       "      <td>0.763692</td>\n",
       "      <td>-0.223064</td>\n",
       "      <td>-1.150251</td>\n",
       "      <td>-1.137256</td>\n",
       "      <td>1.346480</td>\n",
       "      <td>1.542211</td>\n",
       "      <td>['Completed']</td>\n",
       "    </tr>\n",
       "  </tbody>\n",
       "</table>\n",
       "<p>1004 rows × 644 columns</p>\n",
       "</div>"
      ],
      "text/plain": [
       "      Unnamed: 0        nctid  target_label  number_collaborators  \\\n",
       "0              0  NCT01923116             0                     2   \n",
       "1              1  NCT01763021             0                     0   \n",
       "2              2  NCT01179308             1                     0   \n",
       "3              3  NCT00427778             1                     1   \n",
       "4              4  NCT00376467             0                     0   \n",
       "...          ...          ...           ...                   ...   \n",
       "999         1000  NCT01833390             0                     3   \n",
       "1000        1001  NCT01953250             0                     0   \n",
       "1001        1002  NCT02048046             0                     0   \n",
       "1002        1003  NCT01310582             0                     1   \n",
       "1003        1004  NCT00738023             0                     1   \n",
       "\n",
       "      number_officials  num_arms  number_countries  number_sites  no_elig_req  \\\n",
       "0                    2         1                 1             1            0   \n",
       "1                    1         1                 1             1            0   \n",
       "2                    1         2                 2             2            0   \n",
       "3                    1         2                 1             1            0   \n",
       "4                    1         0                 1            28            0   \n",
       "...                ...       ...               ...           ...          ...   \n",
       "999                  2         1                 1             1            0   \n",
       "1000                 1         0                 1             1            0   \n",
       "1001                 0         0                 2             7            0   \n",
       "1002                 1         2                 1             1            0   \n",
       "1003                 1         2                 1             1            0   \n",
       "\n",
       "      inclusion_lines  ...        91        92        93        94        95  \\\n",
       "0                   6  ... -3.300040  1.487360  1.478261  2.550636  1.517649   \n",
       "1                   2  ... -1.393093  0.940864  0.088683  0.074904 -1.793713   \n",
       "2                   3  ... -0.411902 -0.035816  3.557102 -2.521656 -3.917873   \n",
       "3                   3  ... -1.176595  0.247578  1.944952 -0.830502  0.593395   \n",
       "4                   3  ... -4.341137  1.126694  2.487203  1.253972 -0.105168   \n",
       "...               ...  ...       ...       ...       ...       ...       ...   \n",
       "999                 0  ... -1.496434  0.708324  2.234029 -0.475935 -1.077623   \n",
       "1000                1  ...  0.103711  0.753802  0.333810  0.357244 -0.829446   \n",
       "1001                4  ... -0.503749  0.521038  0.261577  1.188807  1.414945   \n",
       "1002                4  ...  1.466321  2.024642  0.856290 -1.512640 -0.472398   \n",
       "1003                7  ... -0.819774  0.201326 -0.669276  0.763692 -0.223064   \n",
       "\n",
       "            96        97        98        99          Result  \n",
       "0     1.237359  3.249761  1.415775  1.477161   ['Completed']  \n",
       "1     0.749069  1.982955 -1.104483  1.344036   ['Completed']  \n",
       "2     0.496561  1.281240 -0.059275 -0.031860  ['Terminated']  \n",
       "3    -2.722616  0.866244  2.003813  1.861063  ['Terminated']  \n",
       "4     3.125254  3.700899  1.906987  3.855995   ['Completed']  \n",
       "...        ...       ...       ...       ...             ...  \n",
       "999   1.361815  0.232516  0.161752 -1.495629   ['Completed']  \n",
       "1000 -0.353592  1.204353  0.996685  0.433562   ['Completed']  \n",
       "1001 -1.611976  1.868101 -0.219925  0.007089   ['Completed']  \n",
       "1002 -3.330396 -1.355578  0.184672 -0.191847   ['Completed']  \n",
       "1003 -1.150251 -1.137256  1.346480  1.542211   ['Completed']  \n",
       "\n",
       "[1004 rows x 644 columns]"
      ]
     },
     "execution_count": 98,
     "metadata": {},
     "output_type": "execute_result"
    }
   ],
   "source": [
    "ed"
   ]
  },
  {
   "cell_type": "code",
   "execution_count": 99,
   "id": "8ddfe925",
   "metadata": {},
   "outputs": [],
   "source": [
    "ed=ed.drop(['Unnamed: 0'],axis=1)"
   ]
  },
  {
   "cell_type": "code",
   "execution_count": 100,
   "id": "59712edc",
   "metadata": {},
   "outputs": [
    {
     "data": {
      "text/html": [
       "<div>\n",
       "<style scoped>\n",
       "    .dataframe tbody tr th:only-of-type {\n",
       "        vertical-align: middle;\n",
       "    }\n",
       "\n",
       "    .dataframe tbody tr th {\n",
       "        vertical-align: top;\n",
       "    }\n",
       "\n",
       "    .dataframe thead th {\n",
       "        text-align: right;\n",
       "    }\n",
       "</style>\n",
       "<table border=\"1\" class=\"dataframe\">\n",
       "  <thead>\n",
       "    <tr style=\"text-align: right;\">\n",
       "      <th></th>\n",
       "      <th>nctid</th>\n",
       "      <th>target_label</th>\n",
       "      <th>number_collaborators</th>\n",
       "      <th>number_officials</th>\n",
       "      <th>num_arms</th>\n",
       "      <th>number_countries</th>\n",
       "      <th>number_sites</th>\n",
       "      <th>no_elig_req</th>\n",
       "      <th>inclusion_lines</th>\n",
       "      <th>exclusion_lines</th>\n",
       "      <th>...</th>\n",
       "      <th>91</th>\n",
       "      <th>92</th>\n",
       "      <th>93</th>\n",
       "      <th>94</th>\n",
       "      <th>95</th>\n",
       "      <th>96</th>\n",
       "      <th>97</th>\n",
       "      <th>98</th>\n",
       "      <th>99</th>\n",
       "      <th>Result</th>\n",
       "    </tr>\n",
       "  </thead>\n",
       "  <tbody>\n",
       "    <tr>\n",
       "      <th>0</th>\n",
       "      <td>NCT01923116</td>\n",
       "      <td>0</td>\n",
       "      <td>2</td>\n",
       "      <td>2</td>\n",
       "      <td>1</td>\n",
       "      <td>1</td>\n",
       "      <td>1</td>\n",
       "      <td>0</td>\n",
       "      <td>6</td>\n",
       "      <td>6</td>\n",
       "      <td>...</td>\n",
       "      <td>-3.300040</td>\n",
       "      <td>1.487360</td>\n",
       "      <td>1.478261</td>\n",
       "      <td>2.550636</td>\n",
       "      <td>1.517649</td>\n",
       "      <td>1.237359</td>\n",
       "      <td>3.249761</td>\n",
       "      <td>1.415775</td>\n",
       "      <td>1.477161</td>\n",
       "      <td>['Completed']</td>\n",
       "    </tr>\n",
       "    <tr>\n",
       "      <th>1</th>\n",
       "      <td>NCT01763021</td>\n",
       "      <td>0</td>\n",
       "      <td>0</td>\n",
       "      <td>1</td>\n",
       "      <td>1</td>\n",
       "      <td>1</td>\n",
       "      <td>1</td>\n",
       "      <td>0</td>\n",
       "      <td>2</td>\n",
       "      <td>4</td>\n",
       "      <td>...</td>\n",
       "      <td>-1.393093</td>\n",
       "      <td>0.940864</td>\n",
       "      <td>0.088683</td>\n",
       "      <td>0.074904</td>\n",
       "      <td>-1.793713</td>\n",
       "      <td>0.749069</td>\n",
       "      <td>1.982955</td>\n",
       "      <td>-1.104483</td>\n",
       "      <td>1.344036</td>\n",
       "      <td>['Completed']</td>\n",
       "    </tr>\n",
       "    <tr>\n",
       "      <th>2</th>\n",
       "      <td>NCT01179308</td>\n",
       "      <td>1</td>\n",
       "      <td>0</td>\n",
       "      <td>1</td>\n",
       "      <td>2</td>\n",
       "      <td>2</td>\n",
       "      <td>2</td>\n",
       "      <td>0</td>\n",
       "      <td>3</td>\n",
       "      <td>4</td>\n",
       "      <td>...</td>\n",
       "      <td>-0.411902</td>\n",
       "      <td>-0.035816</td>\n",
       "      <td>3.557102</td>\n",
       "      <td>-2.521656</td>\n",
       "      <td>-3.917873</td>\n",
       "      <td>0.496561</td>\n",
       "      <td>1.281240</td>\n",
       "      <td>-0.059275</td>\n",
       "      <td>-0.031860</td>\n",
       "      <td>['Terminated']</td>\n",
       "    </tr>\n",
       "    <tr>\n",
       "      <th>3</th>\n",
       "      <td>NCT00427778</td>\n",
       "      <td>1</td>\n",
       "      <td>1</td>\n",
       "      <td>1</td>\n",
       "      <td>2</td>\n",
       "      <td>1</td>\n",
       "      <td>1</td>\n",
       "      <td>0</td>\n",
       "      <td>3</td>\n",
       "      <td>3</td>\n",
       "      <td>...</td>\n",
       "      <td>-1.176595</td>\n",
       "      <td>0.247578</td>\n",
       "      <td>1.944952</td>\n",
       "      <td>-0.830502</td>\n",
       "      <td>0.593395</td>\n",
       "      <td>-2.722616</td>\n",
       "      <td>0.866244</td>\n",
       "      <td>2.003813</td>\n",
       "      <td>1.861063</td>\n",
       "      <td>['Terminated']</td>\n",
       "    </tr>\n",
       "    <tr>\n",
       "      <th>4</th>\n",
       "      <td>NCT00376467</td>\n",
       "      <td>0</td>\n",
       "      <td>0</td>\n",
       "      <td>1</td>\n",
       "      <td>0</td>\n",
       "      <td>1</td>\n",
       "      <td>28</td>\n",
       "      <td>0</td>\n",
       "      <td>3</td>\n",
       "      <td>9</td>\n",
       "      <td>...</td>\n",
       "      <td>-4.341137</td>\n",
       "      <td>1.126694</td>\n",
       "      <td>2.487203</td>\n",
       "      <td>1.253972</td>\n",
       "      <td>-0.105168</td>\n",
       "      <td>3.125254</td>\n",
       "      <td>3.700899</td>\n",
       "      <td>1.906987</td>\n",
       "      <td>3.855995</td>\n",
       "      <td>['Completed']</td>\n",
       "    </tr>\n",
       "    <tr>\n",
       "      <th>...</th>\n",
       "      <td>...</td>\n",
       "      <td>...</td>\n",
       "      <td>...</td>\n",
       "      <td>...</td>\n",
       "      <td>...</td>\n",
       "      <td>...</td>\n",
       "      <td>...</td>\n",
       "      <td>...</td>\n",
       "      <td>...</td>\n",
       "      <td>...</td>\n",
       "      <td>...</td>\n",
       "      <td>...</td>\n",
       "      <td>...</td>\n",
       "      <td>...</td>\n",
       "      <td>...</td>\n",
       "      <td>...</td>\n",
       "      <td>...</td>\n",
       "      <td>...</td>\n",
       "      <td>...</td>\n",
       "      <td>...</td>\n",
       "      <td>...</td>\n",
       "    </tr>\n",
       "    <tr>\n",
       "      <th>999</th>\n",
       "      <td>NCT01833390</td>\n",
       "      <td>0</td>\n",
       "      <td>3</td>\n",
       "      <td>2</td>\n",
       "      <td>1</td>\n",
       "      <td>1</td>\n",
       "      <td>1</td>\n",
       "      <td>0</td>\n",
       "      <td>0</td>\n",
       "      <td>11</td>\n",
       "      <td>...</td>\n",
       "      <td>-1.496434</td>\n",
       "      <td>0.708324</td>\n",
       "      <td>2.234029</td>\n",
       "      <td>-0.475935</td>\n",
       "      <td>-1.077623</td>\n",
       "      <td>1.361815</td>\n",
       "      <td>0.232516</td>\n",
       "      <td>0.161752</td>\n",
       "      <td>-1.495629</td>\n",
       "      <td>['Completed']</td>\n",
       "    </tr>\n",
       "    <tr>\n",
       "      <th>1000</th>\n",
       "      <td>NCT01953250</td>\n",
       "      <td>0</td>\n",
       "      <td>0</td>\n",
       "      <td>1</td>\n",
       "      <td>0</td>\n",
       "      <td>1</td>\n",
       "      <td>1</td>\n",
       "      <td>0</td>\n",
       "      <td>1</td>\n",
       "      <td>0</td>\n",
       "      <td>...</td>\n",
       "      <td>0.103711</td>\n",
       "      <td>0.753802</td>\n",
       "      <td>0.333810</td>\n",
       "      <td>0.357244</td>\n",
       "      <td>-0.829446</td>\n",
       "      <td>-0.353592</td>\n",
       "      <td>1.204353</td>\n",
       "      <td>0.996685</td>\n",
       "      <td>0.433562</td>\n",
       "      <td>['Completed']</td>\n",
       "    </tr>\n",
       "    <tr>\n",
       "      <th>1001</th>\n",
       "      <td>NCT02048046</td>\n",
       "      <td>0</td>\n",
       "      <td>0</td>\n",
       "      <td>0</td>\n",
       "      <td>0</td>\n",
       "      <td>2</td>\n",
       "      <td>7</td>\n",
       "      <td>0</td>\n",
       "      <td>4</td>\n",
       "      <td>1</td>\n",
       "      <td>...</td>\n",
       "      <td>-0.503749</td>\n",
       "      <td>0.521038</td>\n",
       "      <td>0.261577</td>\n",
       "      <td>1.188807</td>\n",
       "      <td>1.414945</td>\n",
       "      <td>-1.611976</td>\n",
       "      <td>1.868101</td>\n",
       "      <td>-0.219925</td>\n",
       "      <td>0.007089</td>\n",
       "      <td>['Completed']</td>\n",
       "    </tr>\n",
       "    <tr>\n",
       "      <th>1002</th>\n",
       "      <td>NCT01310582</td>\n",
       "      <td>0</td>\n",
       "      <td>1</td>\n",
       "      <td>1</td>\n",
       "      <td>2</td>\n",
       "      <td>1</td>\n",
       "      <td>1</td>\n",
       "      <td>0</td>\n",
       "      <td>4</td>\n",
       "      <td>5</td>\n",
       "      <td>...</td>\n",
       "      <td>1.466321</td>\n",
       "      <td>2.024642</td>\n",
       "      <td>0.856290</td>\n",
       "      <td>-1.512640</td>\n",
       "      <td>-0.472398</td>\n",
       "      <td>-3.330396</td>\n",
       "      <td>-1.355578</td>\n",
       "      <td>0.184672</td>\n",
       "      <td>-0.191847</td>\n",
       "      <td>['Completed']</td>\n",
       "    </tr>\n",
       "    <tr>\n",
       "      <th>1003</th>\n",
       "      <td>NCT00738023</td>\n",
       "      <td>0</td>\n",
       "      <td>1</td>\n",
       "      <td>1</td>\n",
       "      <td>2</td>\n",
       "      <td>1</td>\n",
       "      <td>1</td>\n",
       "      <td>0</td>\n",
       "      <td>7</td>\n",
       "      <td>8</td>\n",
       "      <td>...</td>\n",
       "      <td>-0.819774</td>\n",
       "      <td>0.201326</td>\n",
       "      <td>-0.669276</td>\n",
       "      <td>0.763692</td>\n",
       "      <td>-0.223064</td>\n",
       "      <td>-1.150251</td>\n",
       "      <td>-1.137256</td>\n",
       "      <td>1.346480</td>\n",
       "      <td>1.542211</td>\n",
       "      <td>['Completed']</td>\n",
       "    </tr>\n",
       "  </tbody>\n",
       "</table>\n",
       "<p>1004 rows × 643 columns</p>\n",
       "</div>"
      ],
      "text/plain": [
       "            nctid  target_label  number_collaborators  number_officials  \\\n",
       "0     NCT01923116             0                     2                 2   \n",
       "1     NCT01763021             0                     0                 1   \n",
       "2     NCT01179308             1                     0                 1   \n",
       "3     NCT00427778             1                     1                 1   \n",
       "4     NCT00376467             0                     0                 1   \n",
       "...           ...           ...                   ...               ...   \n",
       "999   NCT01833390             0                     3                 2   \n",
       "1000  NCT01953250             0                     0                 1   \n",
       "1001  NCT02048046             0                     0                 0   \n",
       "1002  NCT01310582             0                     1                 1   \n",
       "1003  NCT00738023             0                     1                 1   \n",
       "\n",
       "      num_arms  number_countries  number_sites  no_elig_req  inclusion_lines  \\\n",
       "0            1                 1             1            0                6   \n",
       "1            1                 1             1            0                2   \n",
       "2            2                 2             2            0                3   \n",
       "3            2                 1             1            0                3   \n",
       "4            0                 1            28            0                3   \n",
       "...        ...               ...           ...          ...              ...   \n",
       "999          1                 1             1            0                0   \n",
       "1000         0                 1             1            0                1   \n",
       "1001         0                 2             7            0                4   \n",
       "1002         2                 1             1            0                4   \n",
       "1003         2                 1             1            0                7   \n",
       "\n",
       "      exclusion_lines  ...        91        92        93        94        95  \\\n",
       "0                   6  ... -3.300040  1.487360  1.478261  2.550636  1.517649   \n",
       "1                   4  ... -1.393093  0.940864  0.088683  0.074904 -1.793713   \n",
       "2                   4  ... -0.411902 -0.035816  3.557102 -2.521656 -3.917873   \n",
       "3                   3  ... -1.176595  0.247578  1.944952 -0.830502  0.593395   \n",
       "4                   9  ... -4.341137  1.126694  2.487203  1.253972 -0.105168   \n",
       "...               ...  ...       ...       ...       ...       ...       ...   \n",
       "999                11  ... -1.496434  0.708324  2.234029 -0.475935 -1.077623   \n",
       "1000                0  ...  0.103711  0.753802  0.333810  0.357244 -0.829446   \n",
       "1001                1  ... -0.503749  0.521038  0.261577  1.188807  1.414945   \n",
       "1002                5  ...  1.466321  2.024642  0.856290 -1.512640 -0.472398   \n",
       "1003                8  ... -0.819774  0.201326 -0.669276  0.763692 -0.223064   \n",
       "\n",
       "            96        97        98        99          Result  \n",
       "0     1.237359  3.249761  1.415775  1.477161   ['Completed']  \n",
       "1     0.749069  1.982955 -1.104483  1.344036   ['Completed']  \n",
       "2     0.496561  1.281240 -0.059275 -0.031860  ['Terminated']  \n",
       "3    -2.722616  0.866244  2.003813  1.861063  ['Terminated']  \n",
       "4     3.125254  3.700899  1.906987  3.855995   ['Completed']  \n",
       "...        ...       ...       ...       ...             ...  \n",
       "999   1.361815  0.232516  0.161752 -1.495629   ['Completed']  \n",
       "1000 -0.353592  1.204353  0.996685  0.433562   ['Completed']  \n",
       "1001 -1.611976  1.868101 -0.219925  0.007089   ['Completed']  \n",
       "1002 -3.330396 -1.355578  0.184672 -0.191847   ['Completed']  \n",
       "1003 -1.150251 -1.137256  1.346480  1.542211   ['Completed']  \n",
       "\n",
       "[1004 rows x 643 columns]"
      ]
     },
     "execution_count": 100,
     "metadata": {},
     "output_type": "execute_result"
    }
   ],
   "source": [
    "ed"
   ]
  },
  {
   "cell_type": "code",
   "execution_count": 101,
   "id": "f00ff445",
   "metadata": {},
   "outputs": [
    {
     "data": {
      "text/plain": [
       "0"
      ]
     },
     "execution_count": 101,
     "metadata": {},
     "output_type": "execute_result"
    }
   ],
   "source": [
    "ed.isnull().sum().sum()"
   ]
  },
  {
   "cell_type": "code",
   "execution_count": 102,
   "id": "e6a4c9e5",
   "metadata": {},
   "outputs": [],
   "source": [
    "ed=ed[ed.Result != 'Error: 500']"
   ]
  },
  {
   "cell_type": "code",
   "execution_count": 103,
   "id": "d5829619",
   "metadata": {},
   "outputs": [
    {
     "data": {
      "text/plain": [
       "<AxesSubplot:xlabel='Result', ylabel='count'>"
      ]
     },
     "execution_count": 103,
     "metadata": {},
     "output_type": "execute_result"
    },
    {
     "data": {
      "image/png": "[encoded data removed]",
      "text/plain": [
       "<Figure size 432x288 with 1 Axes>"
      ]
     },
     "metadata": {
      "needs_background": "light"
     },
     "output_type": "display_data"
    }
   ],
   "source": [
    "sns.countplot(x=ed['Result'])"
   ]
  },
  {
   "cell_type": "code",
   "execution_count": 104,
   "id": "99fbba5d",
   "metadata": {},
   "outputs": [
    {
     "data": {
      "text/plain": [
       "'The dataset is heavily biased with Completed values so if we use any model we will get results \\nwith accuracy greater than 90%, therefore to get the correct results we need to use sampling techniques'"
      ]
     },
     "execution_count": 104,
     "metadata": {},
     "output_type": "execute_result"
    }
   ],
   "source": [
    "\"\"\"The dataset is heavily biased with Completed values so if we use any model we will get results \n",
    "with accuracy greater than 90%, therefore to get the correct results we need to use sampling techniques\"\"\""
   ]
  },
  {
   "cell_type": "code",
   "execution_count": null,
   "id": "f4d23342",
   "metadata": {},
   "outputs": [],
   "source": []
  },
  {
   "cell_type": "code",
   "execution_count": null,
   "id": "bbd15848",
   "metadata": {},
   "outputs": [],
   "source": []
  },
  {
   "cell_type": "code",
   "execution_count": null,
   "id": "c4638bf8",
   "metadata": {},
   "outputs": [],
   "source": []
  },
  {
   "cell_type": "code",
   "execution_count": 105,
   "id": "d4683670",
   "metadata": {},
   "outputs": [
    {
     "data": {
      "text/html": [
       "<div>\n",
       "<style scoped>\n",
       "    .dataframe tbody tr th:only-of-type {\n",
       "        vertical-align: middle;\n",
       "    }\n",
       "\n",
       "    .dataframe tbody tr th {\n",
       "        vertical-align: top;\n",
       "    }\n",
       "\n",
       "    .dataframe thead th {\n",
       "        text-align: right;\n",
       "    }\n",
       "</style>\n",
       "<table border=\"1\" class=\"dataframe\">\n",
       "  <thead>\n",
       "    <tr style=\"text-align: right;\">\n",
       "      <th></th>\n",
       "      <th>nctid</th>\n",
       "      <th>target_label</th>\n",
       "      <th>number_collaborators</th>\n",
       "      <th>number_officials</th>\n",
       "      <th>num_arms</th>\n",
       "      <th>number_countries</th>\n",
       "      <th>number_sites</th>\n",
       "      <th>no_elig_req</th>\n",
       "      <th>inclusion_lines</th>\n",
       "      <th>exclusion_lines</th>\n",
       "      <th>...</th>\n",
       "      <th>91</th>\n",
       "      <th>92</th>\n",
       "      <th>93</th>\n",
       "      <th>94</th>\n",
       "      <th>95</th>\n",
       "      <th>96</th>\n",
       "      <th>97</th>\n",
       "      <th>98</th>\n",
       "      <th>99</th>\n",
       "      <th>Result</th>\n",
       "    </tr>\n",
       "  </thead>\n",
       "  <tbody>\n",
       "    <tr>\n",
       "      <th>0</th>\n",
       "      <td>NCT01923116</td>\n",
       "      <td>0</td>\n",
       "      <td>2</td>\n",
       "      <td>2</td>\n",
       "      <td>1</td>\n",
       "      <td>1</td>\n",
       "      <td>1</td>\n",
       "      <td>0</td>\n",
       "      <td>6</td>\n",
       "      <td>6</td>\n",
       "      <td>...</td>\n",
       "      <td>-3.300040</td>\n",
       "      <td>1.487360</td>\n",
       "      <td>1.478261</td>\n",
       "      <td>2.550636</td>\n",
       "      <td>1.517649</td>\n",
       "      <td>1.237359</td>\n",
       "      <td>3.249761</td>\n",
       "      <td>1.415775</td>\n",
       "      <td>1.477161</td>\n",
       "      <td>['Completed']</td>\n",
       "    </tr>\n",
       "    <tr>\n",
       "      <th>1</th>\n",
       "      <td>NCT01763021</td>\n",
       "      <td>0</td>\n",
       "      <td>0</td>\n",
       "      <td>1</td>\n",
       "      <td>1</td>\n",
       "      <td>1</td>\n",
       "      <td>1</td>\n",
       "      <td>0</td>\n",
       "      <td>2</td>\n",
       "      <td>4</td>\n",
       "      <td>...</td>\n",
       "      <td>-1.393093</td>\n",
       "      <td>0.940864</td>\n",
       "      <td>0.088683</td>\n",
       "      <td>0.074904</td>\n",
       "      <td>-1.793713</td>\n",
       "      <td>0.749069</td>\n",
       "      <td>1.982955</td>\n",
       "      <td>-1.104483</td>\n",
       "      <td>1.344036</td>\n",
       "      <td>['Completed']</td>\n",
       "    </tr>\n",
       "    <tr>\n",
       "      <th>2</th>\n",
       "      <td>NCT01179308</td>\n",
       "      <td>1</td>\n",
       "      <td>0</td>\n",
       "      <td>1</td>\n",
       "      <td>2</td>\n",
       "      <td>2</td>\n",
       "      <td>2</td>\n",
       "      <td>0</td>\n",
       "      <td>3</td>\n",
       "      <td>4</td>\n",
       "      <td>...</td>\n",
       "      <td>-0.411902</td>\n",
       "      <td>-0.035816</td>\n",
       "      <td>3.557102</td>\n",
       "      <td>-2.521656</td>\n",
       "      <td>-3.917873</td>\n",
       "      <td>0.496561</td>\n",
       "      <td>1.281240</td>\n",
       "      <td>-0.059275</td>\n",
       "      <td>-0.031860</td>\n",
       "      <td>['Terminated']</td>\n",
       "    </tr>\n",
       "    <tr>\n",
       "      <th>3</th>\n",
       "      <td>NCT00427778</td>\n",
       "      <td>1</td>\n",
       "      <td>1</td>\n",
       "      <td>1</td>\n",
       "      <td>2</td>\n",
       "      <td>1</td>\n",
       "      <td>1</td>\n",
       "      <td>0</td>\n",
       "      <td>3</td>\n",
       "      <td>3</td>\n",
       "      <td>...</td>\n",
       "      <td>-1.176595</td>\n",
       "      <td>0.247578</td>\n",
       "      <td>1.944952</td>\n",
       "      <td>-0.830502</td>\n",
       "      <td>0.593395</td>\n",
       "      <td>-2.722616</td>\n",
       "      <td>0.866244</td>\n",
       "      <td>2.003813</td>\n",
       "      <td>1.861063</td>\n",
       "      <td>['Terminated']</td>\n",
       "    </tr>\n",
       "    <tr>\n",
       "      <th>4</th>\n",
       "      <td>NCT00376467</td>\n",
       "      <td>0</td>\n",
       "      <td>0</td>\n",
       "      <td>1</td>\n",
       "      <td>0</td>\n",
       "      <td>1</td>\n",
       "      <td>28</td>\n",
       "      <td>0</td>\n",
       "      <td>3</td>\n",
       "      <td>9</td>\n",
       "      <td>...</td>\n",
       "      <td>-4.341137</td>\n",
       "      <td>1.126694</td>\n",
       "      <td>2.487203</td>\n",
       "      <td>1.253972</td>\n",
       "      <td>-0.105168</td>\n",
       "      <td>3.125254</td>\n",
       "      <td>3.700899</td>\n",
       "      <td>1.906987</td>\n",
       "      <td>3.855995</td>\n",
       "      <td>['Completed']</td>\n",
       "    </tr>\n",
       "    <tr>\n",
       "      <th>...</th>\n",
       "      <td>...</td>\n",
       "      <td>...</td>\n",
       "      <td>...</td>\n",
       "      <td>...</td>\n",
       "      <td>...</td>\n",
       "      <td>...</td>\n",
       "      <td>...</td>\n",
       "      <td>...</td>\n",
       "      <td>...</td>\n",
       "      <td>...</td>\n",
       "      <td>...</td>\n",
       "      <td>...</td>\n",
       "      <td>...</td>\n",
       "      <td>...</td>\n",
       "      <td>...</td>\n",
       "      <td>...</td>\n",
       "      <td>...</td>\n",
       "      <td>...</td>\n",
       "      <td>...</td>\n",
       "      <td>...</td>\n",
       "      <td>...</td>\n",
       "    </tr>\n",
       "    <tr>\n",
       "      <th>999</th>\n",
       "      <td>NCT01833390</td>\n",
       "      <td>0</td>\n",
       "      <td>3</td>\n",
       "      <td>2</td>\n",
       "      <td>1</td>\n",
       "      <td>1</td>\n",
       "      <td>1</td>\n",
       "      <td>0</td>\n",
       "      <td>0</td>\n",
       "      <td>11</td>\n",
       "      <td>...</td>\n",
       "      <td>-1.496434</td>\n",
       "      <td>0.708324</td>\n",
       "      <td>2.234029</td>\n",
       "      <td>-0.475935</td>\n",
       "      <td>-1.077623</td>\n",
       "      <td>1.361815</td>\n",
       "      <td>0.232516</td>\n",
       "      <td>0.161752</td>\n",
       "      <td>-1.495629</td>\n",
       "      <td>['Completed']</td>\n",
       "    </tr>\n",
       "    <tr>\n",
       "      <th>1000</th>\n",
       "      <td>NCT01953250</td>\n",
       "      <td>0</td>\n",
       "      <td>0</td>\n",
       "      <td>1</td>\n",
       "      <td>0</td>\n",
       "      <td>1</td>\n",
       "      <td>1</td>\n",
       "      <td>0</td>\n",
       "      <td>1</td>\n",
       "      <td>0</td>\n",
       "      <td>...</td>\n",
       "      <td>0.103711</td>\n",
       "      <td>0.753802</td>\n",
       "      <td>0.333810</td>\n",
       "      <td>0.357244</td>\n",
       "      <td>-0.829446</td>\n",
       "      <td>-0.353592</td>\n",
       "      <td>1.204353</td>\n",
       "      <td>0.996685</td>\n",
       "      <td>0.433562</td>\n",
       "      <td>['Completed']</td>\n",
       "    </tr>\n",
       "    <tr>\n",
       "      <th>1001</th>\n",
       "      <td>NCT02048046</td>\n",
       "      <td>0</td>\n",
       "      <td>0</td>\n",
       "      <td>0</td>\n",
       "      <td>0</td>\n",
       "      <td>2</td>\n",
       "      <td>7</td>\n",
       "      <td>0</td>\n",
       "      <td>4</td>\n",
       "      <td>1</td>\n",
       "      <td>...</td>\n",
       "      <td>-0.503749</td>\n",
       "      <td>0.521038</td>\n",
       "      <td>0.261577</td>\n",
       "      <td>1.188807</td>\n",
       "      <td>1.414945</td>\n",
       "      <td>-1.611976</td>\n",
       "      <td>1.868101</td>\n",
       "      <td>-0.219925</td>\n",
       "      <td>0.007089</td>\n",
       "      <td>['Completed']</td>\n",
       "    </tr>\n",
       "    <tr>\n",
       "      <th>1002</th>\n",
       "      <td>NCT01310582</td>\n",
       "      <td>0</td>\n",
       "      <td>1</td>\n",
       "      <td>1</td>\n",
       "      <td>2</td>\n",
       "      <td>1</td>\n",
       "      <td>1</td>\n",
       "      <td>0</td>\n",
       "      <td>4</td>\n",
       "      <td>5</td>\n",
       "      <td>...</td>\n",
       "      <td>1.466321</td>\n",
       "      <td>2.024642</td>\n",
       "      <td>0.856290</td>\n",
       "      <td>-1.512640</td>\n",
       "      <td>-0.472398</td>\n",
       "      <td>-3.330396</td>\n",
       "      <td>-1.355578</td>\n",
       "      <td>0.184672</td>\n",
       "      <td>-0.191847</td>\n",
       "      <td>['Completed']</td>\n",
       "    </tr>\n",
       "    <tr>\n",
       "      <th>1003</th>\n",
       "      <td>NCT00738023</td>\n",
       "      <td>0</td>\n",
       "      <td>1</td>\n",
       "      <td>1</td>\n",
       "      <td>2</td>\n",
       "      <td>1</td>\n",
       "      <td>1</td>\n",
       "      <td>0</td>\n",
       "      <td>7</td>\n",
       "      <td>8</td>\n",
       "      <td>...</td>\n",
       "      <td>-0.819774</td>\n",
       "      <td>0.201326</td>\n",
       "      <td>-0.669276</td>\n",
       "      <td>0.763692</td>\n",
       "      <td>-0.223064</td>\n",
       "      <td>-1.150251</td>\n",
       "      <td>-1.137256</td>\n",
       "      <td>1.346480</td>\n",
       "      <td>1.542211</td>\n",
       "      <td>['Completed']</td>\n",
       "    </tr>\n",
       "  </tbody>\n",
       "</table>\n",
       "<p>1003 rows × 643 columns</p>\n",
       "</div>"
      ],
      "text/plain": [
       "            nctid  target_label  number_collaborators  number_officials  \\\n",
       "0     NCT01923116             0                     2                 2   \n",
       "1     NCT01763021             0                     0                 1   \n",
       "2     NCT01179308             1                     0                 1   \n",
       "3     NCT00427778             1                     1                 1   \n",
       "4     NCT00376467             0                     0                 1   \n",
       "...           ...           ...                   ...               ...   \n",
       "999   NCT01833390             0                     3                 2   \n",
       "1000  NCT01953250             0                     0                 1   \n",
       "1001  NCT02048046             0                     0                 0   \n",
       "1002  NCT01310582             0                     1                 1   \n",
       "1003  NCT00738023             0                     1                 1   \n",
       "\n",
       "      num_arms  number_countries  number_sites  no_elig_req  inclusion_lines  \\\n",
       "0            1                 1             1            0                6   \n",
       "1            1                 1             1            0                2   \n",
       "2            2                 2             2            0                3   \n",
       "3            2                 1             1            0                3   \n",
       "4            0                 1            28            0                3   \n",
       "...        ...               ...           ...          ...              ...   \n",
       "999          1                 1             1            0                0   \n",
       "1000         0                 1             1            0                1   \n",
       "1001         0                 2             7            0                4   \n",
       "1002         2                 1             1            0                4   \n",
       "1003         2                 1             1            0                7   \n",
       "\n",
       "      exclusion_lines  ...        91        92        93        94        95  \\\n",
       "0                   6  ... -3.300040  1.487360  1.478261  2.550636  1.517649   \n",
       "1                   4  ... -1.393093  0.940864  0.088683  0.074904 -1.793713   \n",
       "2                   4  ... -0.411902 -0.035816  3.557102 -2.521656 -3.917873   \n",
       "3                   3  ... -1.176595  0.247578  1.944952 -0.830502  0.593395   \n",
       "4                   9  ... -4.341137  1.126694  2.487203  1.253972 -0.105168   \n",
       "...               ...  ...       ...       ...       ...       ...       ...   \n",
       "999                11  ... -1.496434  0.708324  2.234029 -0.475935 -1.077623   \n",
       "1000                0  ...  0.103711  0.753802  0.333810  0.357244 -0.829446   \n",
       "1001                1  ... -0.503749  0.521038  0.261577  1.188807  1.414945   \n",
       "1002                5  ...  1.466321  2.024642  0.856290 -1.512640 -0.472398   \n",
       "1003                8  ... -0.819774  0.201326 -0.669276  0.763692 -0.223064   \n",
       "\n",
       "            96        97        98        99          Result  \n",
       "0     1.237359  3.249761  1.415775  1.477161   ['Completed']  \n",
       "1     0.749069  1.982955 -1.104483  1.344036   ['Completed']  \n",
       "2     0.496561  1.281240 -0.059275 -0.031860  ['Terminated']  \n",
       "3    -2.722616  0.866244  2.003813  1.861063  ['Terminated']  \n",
       "4     3.125254  3.700899  1.906987  3.855995   ['Completed']  \n",
       "...        ...       ...       ...       ...             ...  \n",
       "999   1.361815  0.232516  0.161752 -1.495629   ['Completed']  \n",
       "1000 -0.353592  1.204353  0.996685  0.433562   ['Completed']  \n",
       "1001 -1.611976  1.868101 -0.219925  0.007089   ['Completed']  \n",
       "1002 -3.330396 -1.355578  0.184672 -0.191847   ['Completed']  \n",
       "1003 -1.150251 -1.137256  1.346480  1.542211   ['Completed']  \n",
       "\n",
       "[1003 rows x 643 columns]"
      ]
     },
     "execution_count": 105,
     "metadata": {},
     "output_type": "execute_result"
    }
   ],
   "source": [
    "ed"
   ]
  },
  {
   "cell_type": "code",
   "execution_count": 106,
   "id": "f11ef41e",
   "metadata": {},
   "outputs": [],
   "source": [
    "from sklearn.preprocessing import LabelEncoder\n",
    "le=LabelEncoder()"
   ]
  },
  {
   "cell_type": "code",
   "execution_count": 107,
   "id": "fdbacbbf",
   "metadata": {},
   "outputs": [
    {
     "name": "stderr",
     "output_type": "stream",
     "text": [
      "C:\\Users\\rabhi\\AppData\\Local\\Temp/ipykernel_36076/2793237313.py:1: SettingWithCopyWarning: \n",
      "A value is trying to be set on a copy of a slice from a DataFrame.\n",
      "Try using .loc[row_indexer,col_indexer] = value instead\n",
      "\n",
      "See the caveats in the documentation: https://pandas.pydata.org/pandas-docs/stable/user_guide/indexing.html#returning-a-view-versus-a-copy\n",
      "  ed['Result']=le.fit_transform(ed['Result'].astype(str))\n"
     ]
    }
   ],
   "source": [
    "ed['Result']=le.fit_transform(ed['Result'].astype(str))"
   ]
  },
  {
   "cell_type": "code",
   "execution_count": 108,
   "id": "0b1d89a4",
   "metadata": {},
   "outputs": [
    {
     "data": {
      "text/html": [
       "<div>\n",
       "<style scoped>\n",
       "    .dataframe tbody tr th:only-of-type {\n",
       "        vertical-align: middle;\n",
       "    }\n",
       "\n",
       "    .dataframe tbody tr th {\n",
       "        vertical-align: top;\n",
       "    }\n",
       "\n",
       "    .dataframe thead th {\n",
       "        text-align: right;\n",
       "    }\n",
       "</style>\n",
       "<table border=\"1\" class=\"dataframe\">\n",
       "  <thead>\n",
       "    <tr style=\"text-align: right;\">\n",
       "      <th></th>\n",
       "      <th>nctid</th>\n",
       "      <th>target_label</th>\n",
       "      <th>number_collaborators</th>\n",
       "      <th>number_officials</th>\n",
       "      <th>num_arms</th>\n",
       "      <th>number_countries</th>\n",
       "      <th>number_sites</th>\n",
       "      <th>no_elig_req</th>\n",
       "      <th>inclusion_lines</th>\n",
       "      <th>exclusion_lines</th>\n",
       "      <th>...</th>\n",
       "      <th>91</th>\n",
       "      <th>92</th>\n",
       "      <th>93</th>\n",
       "      <th>94</th>\n",
       "      <th>95</th>\n",
       "      <th>96</th>\n",
       "      <th>97</th>\n",
       "      <th>98</th>\n",
       "      <th>99</th>\n",
       "      <th>Result</th>\n",
       "    </tr>\n",
       "  </thead>\n",
       "  <tbody>\n",
       "    <tr>\n",
       "      <th>0</th>\n",
       "      <td>NCT01923116</td>\n",
       "      <td>0</td>\n",
       "      <td>2</td>\n",
       "      <td>2</td>\n",
       "      <td>1</td>\n",
       "      <td>1</td>\n",
       "      <td>1</td>\n",
       "      <td>0</td>\n",
       "      <td>6</td>\n",
       "      <td>6</td>\n",
       "      <td>...</td>\n",
       "      <td>-3.300040</td>\n",
       "      <td>1.487360</td>\n",
       "      <td>1.478261</td>\n",
       "      <td>2.550636</td>\n",
       "      <td>1.517649</td>\n",
       "      <td>1.237359</td>\n",
       "      <td>3.249761</td>\n",
       "      <td>1.415775</td>\n",
       "      <td>1.477161</td>\n",
       "      <td>0</td>\n",
       "    </tr>\n",
       "    <tr>\n",
       "      <th>1</th>\n",
       "      <td>NCT01763021</td>\n",
       "      <td>0</td>\n",
       "      <td>0</td>\n",
       "      <td>1</td>\n",
       "      <td>1</td>\n",
       "      <td>1</td>\n",
       "      <td>1</td>\n",
       "      <td>0</td>\n",
       "      <td>2</td>\n",
       "      <td>4</td>\n",
       "      <td>...</td>\n",
       "      <td>-1.393093</td>\n",
       "      <td>0.940864</td>\n",
       "      <td>0.088683</td>\n",
       "      <td>0.074904</td>\n",
       "      <td>-1.793713</td>\n",
       "      <td>0.749069</td>\n",
       "      <td>1.982955</td>\n",
       "      <td>-1.104483</td>\n",
       "      <td>1.344036</td>\n",
       "      <td>0</td>\n",
       "    </tr>\n",
       "    <tr>\n",
       "      <th>2</th>\n",
       "      <td>NCT01179308</td>\n",
       "      <td>1</td>\n",
       "      <td>0</td>\n",
       "      <td>1</td>\n",
       "      <td>2</td>\n",
       "      <td>2</td>\n",
       "      <td>2</td>\n",
       "      <td>0</td>\n",
       "      <td>3</td>\n",
       "      <td>4</td>\n",
       "      <td>...</td>\n",
       "      <td>-0.411902</td>\n",
       "      <td>-0.035816</td>\n",
       "      <td>3.557102</td>\n",
       "      <td>-2.521656</td>\n",
       "      <td>-3.917873</td>\n",
       "      <td>0.496561</td>\n",
       "      <td>1.281240</td>\n",
       "      <td>-0.059275</td>\n",
       "      <td>-0.031860</td>\n",
       "      <td>1</td>\n",
       "    </tr>\n",
       "    <tr>\n",
       "      <th>3</th>\n",
       "      <td>NCT00427778</td>\n",
       "      <td>1</td>\n",
       "      <td>1</td>\n",
       "      <td>1</td>\n",
       "      <td>2</td>\n",
       "      <td>1</td>\n",
       "      <td>1</td>\n",
       "      <td>0</td>\n",
       "      <td>3</td>\n",
       "      <td>3</td>\n",
       "      <td>...</td>\n",
       "      <td>-1.176595</td>\n",
       "      <td>0.247578</td>\n",
       "      <td>1.944952</td>\n",
       "      <td>-0.830502</td>\n",
       "      <td>0.593395</td>\n",
       "      <td>-2.722616</td>\n",
       "      <td>0.866244</td>\n",
       "      <td>2.003813</td>\n",
       "      <td>1.861063</td>\n",
       "      <td>1</td>\n",
       "    </tr>\n",
       "    <tr>\n",
       "      <th>4</th>\n",
       "      <td>NCT00376467</td>\n",
       "      <td>0</td>\n",
       "      <td>0</td>\n",
       "      <td>1</td>\n",
       "      <td>0</td>\n",
       "      <td>1</td>\n",
       "      <td>28</td>\n",
       "      <td>0</td>\n",
       "      <td>3</td>\n",
       "      <td>9</td>\n",
       "      <td>...</td>\n",
       "      <td>-4.341137</td>\n",
       "      <td>1.126694</td>\n",
       "      <td>2.487203</td>\n",
       "      <td>1.253972</td>\n",
       "      <td>-0.105168</td>\n",
       "      <td>3.125254</td>\n",
       "      <td>3.700899</td>\n",
       "      <td>1.906987</td>\n",
       "      <td>3.855995</td>\n",
       "      <td>0</td>\n",
       "    </tr>\n",
       "    <tr>\n",
       "      <th>...</th>\n",
       "      <td>...</td>\n",
       "      <td>...</td>\n",
       "      <td>...</td>\n",
       "      <td>...</td>\n",
       "      <td>...</td>\n",
       "      <td>...</td>\n",
       "      <td>...</td>\n",
       "      <td>...</td>\n",
       "      <td>...</td>\n",
       "      <td>...</td>\n",
       "      <td>...</td>\n",
       "      <td>...</td>\n",
       "      <td>...</td>\n",
       "      <td>...</td>\n",
       "      <td>...</td>\n",
       "      <td>...</td>\n",
       "      <td>...</td>\n",
       "      <td>...</td>\n",
       "      <td>...</td>\n",
       "      <td>...</td>\n",
       "      <td>...</td>\n",
       "    </tr>\n",
       "    <tr>\n",
       "      <th>999</th>\n",
       "      <td>NCT01833390</td>\n",
       "      <td>0</td>\n",
       "      <td>3</td>\n",
       "      <td>2</td>\n",
       "      <td>1</td>\n",
       "      <td>1</td>\n",
       "      <td>1</td>\n",
       "      <td>0</td>\n",
       "      <td>0</td>\n",
       "      <td>11</td>\n",
       "      <td>...</td>\n",
       "      <td>-1.496434</td>\n",
       "      <td>0.708324</td>\n",
       "      <td>2.234029</td>\n",
       "      <td>-0.475935</td>\n",
       "      <td>-1.077623</td>\n",
       "      <td>1.361815</td>\n",
       "      <td>0.232516</td>\n",
       "      <td>0.161752</td>\n",
       "      <td>-1.495629</td>\n",
       "      <td>0</td>\n",
       "    </tr>\n",
       "    <tr>\n",
       "      <th>1000</th>\n",
       "      <td>NCT01953250</td>\n",
       "      <td>0</td>\n",
       "      <td>0</td>\n",
       "      <td>1</td>\n",
       "      <td>0</td>\n",
       "      <td>1</td>\n",
       "      <td>1</td>\n",
       "      <td>0</td>\n",
       "      <td>1</td>\n",
       "      <td>0</td>\n",
       "      <td>...</td>\n",
       "      <td>0.103711</td>\n",
       "      <td>0.753802</td>\n",
       "      <td>0.333810</td>\n",
       "      <td>0.357244</td>\n",
       "      <td>-0.829446</td>\n",
       "      <td>-0.353592</td>\n",
       "      <td>1.204353</td>\n",
       "      <td>0.996685</td>\n",
       "      <td>0.433562</td>\n",
       "      <td>0</td>\n",
       "    </tr>\n",
       "    <tr>\n",
       "      <th>1001</th>\n",
       "      <td>NCT02048046</td>\n",
       "      <td>0</td>\n",
       "      <td>0</td>\n",
       "      <td>0</td>\n",
       "      <td>0</td>\n",
       "      <td>2</td>\n",
       "      <td>7</td>\n",
       "      <td>0</td>\n",
       "      <td>4</td>\n",
       "      <td>1</td>\n",
       "      <td>...</td>\n",
       "      <td>-0.503749</td>\n",
       "      <td>0.521038</td>\n",
       "      <td>0.261577</td>\n",
       "      <td>1.188807</td>\n",
       "      <td>1.414945</td>\n",
       "      <td>-1.611976</td>\n",
       "      <td>1.868101</td>\n",
       "      <td>-0.219925</td>\n",
       "      <td>0.007089</td>\n",
       "      <td>0</td>\n",
       "    </tr>\n",
       "    <tr>\n",
       "      <th>1002</th>\n",
       "      <td>NCT01310582</td>\n",
       "      <td>0</td>\n",
       "      <td>1</td>\n",
       "      <td>1</td>\n",
       "      <td>2</td>\n",
       "      <td>1</td>\n",
       "      <td>1</td>\n",
       "      <td>0</td>\n",
       "      <td>4</td>\n",
       "      <td>5</td>\n",
       "      <td>...</td>\n",
       "      <td>1.466321</td>\n",
       "      <td>2.024642</td>\n",
       "      <td>0.856290</td>\n",
       "      <td>-1.512640</td>\n",
       "      <td>-0.472398</td>\n",
       "      <td>-3.330396</td>\n",
       "      <td>-1.355578</td>\n",
       "      <td>0.184672</td>\n",
       "      <td>-0.191847</td>\n",
       "      <td>0</td>\n",
       "    </tr>\n",
       "    <tr>\n",
       "      <th>1003</th>\n",
       "      <td>NCT00738023</td>\n",
       "      <td>0</td>\n",
       "      <td>1</td>\n",
       "      <td>1</td>\n",
       "      <td>2</td>\n",
       "      <td>1</td>\n",
       "      <td>1</td>\n",
       "      <td>0</td>\n",
       "      <td>7</td>\n",
       "      <td>8</td>\n",
       "      <td>...</td>\n",
       "      <td>-0.819774</td>\n",
       "      <td>0.201326</td>\n",
       "      <td>-0.669276</td>\n",
       "      <td>0.763692</td>\n",
       "      <td>-0.223064</td>\n",
       "      <td>-1.150251</td>\n",
       "      <td>-1.137256</td>\n",
       "      <td>1.346480</td>\n",
       "      <td>1.542211</td>\n",
       "      <td>0</td>\n",
       "    </tr>\n",
       "  </tbody>\n",
       "</table>\n",
       "<p>1003 rows × 643 columns</p>\n",
       "</div>"
      ],
      "text/plain": [
       "            nctid  target_label  number_collaborators  number_officials  \\\n",
       "0     NCT01923116             0                     2                 2   \n",
       "1     NCT01763021             0                     0                 1   \n",
       "2     NCT01179308             1                     0                 1   \n",
       "3     NCT00427778             1                     1                 1   \n",
       "4     NCT00376467             0                     0                 1   \n",
       "...           ...           ...                   ...               ...   \n",
       "999   NCT01833390             0                     3                 2   \n",
       "1000  NCT01953250             0                     0                 1   \n",
       "1001  NCT02048046             0                     0                 0   \n",
       "1002  NCT01310582             0                     1                 1   \n",
       "1003  NCT00738023             0                     1                 1   \n",
       "\n",
       "      num_arms  number_countries  number_sites  no_elig_req  inclusion_lines  \\\n",
       "0            1                 1             1            0                6   \n",
       "1            1                 1             1            0                2   \n",
       "2            2                 2             2            0                3   \n",
       "3            2                 1             1            0                3   \n",
       "4            0                 1            28            0                3   \n",
       "...        ...               ...           ...          ...              ...   \n",
       "999          1                 1             1            0                0   \n",
       "1000         0                 1             1            0                1   \n",
       "1001         0                 2             7            0                4   \n",
       "1002         2                 1             1            0                4   \n",
       "1003         2                 1             1            0                7   \n",
       "\n",
       "      exclusion_lines  ...        91        92        93        94        95  \\\n",
       "0                   6  ... -3.300040  1.487360  1.478261  2.550636  1.517649   \n",
       "1                   4  ... -1.393093  0.940864  0.088683  0.074904 -1.793713   \n",
       "2                   4  ... -0.411902 -0.035816  3.557102 -2.521656 -3.917873   \n",
       "3                   3  ... -1.176595  0.247578  1.944952 -0.830502  0.593395   \n",
       "4                   9  ... -4.341137  1.126694  2.487203  1.253972 -0.105168   \n",
       "...               ...  ...       ...       ...       ...       ...       ...   \n",
       "999                11  ... -1.496434  0.708324  2.234029 -0.475935 -1.077623   \n",
       "1000                0  ...  0.103711  0.753802  0.333810  0.357244 -0.829446   \n",
       "1001                1  ... -0.503749  0.521038  0.261577  1.188807  1.414945   \n",
       "1002                5  ...  1.466321  2.024642  0.856290 -1.512640 -0.472398   \n",
       "1003                8  ... -0.819774  0.201326 -0.669276  0.763692 -0.223064   \n",
       "\n",
       "            96        97        98        99  Result  \n",
       "0     1.237359  3.249761  1.415775  1.477161       0  \n",
       "1     0.749069  1.982955 -1.104483  1.344036       0  \n",
       "2     0.496561  1.281240 -0.059275 -0.031860       1  \n",
       "3    -2.722616  0.866244  2.003813  1.861063       1  \n",
       "4     3.125254  3.700899  1.906987  3.855995       0  \n",
       "...        ...       ...       ...       ...     ...  \n",
       "999   1.361815  0.232516  0.161752 -1.495629       0  \n",
       "1000 -0.353592  1.204353  0.996685  0.433562       0  \n",
       "1001 -1.611976  1.868101 -0.219925  0.007089       0  \n",
       "1002 -3.330396 -1.355578  0.184672 -0.191847       0  \n",
       "1003 -1.150251 -1.137256  1.346480  1.542211       0  \n",
       "\n",
       "[1003 rows x 643 columns]"
      ]
     },
     "execution_count": 108,
     "metadata": {},
     "output_type": "execute_result"
    }
   ],
   "source": [
    "ed"
   ]
  },
  {
   "cell_type": "code",
   "execution_count": 109,
   "id": "6e91ca9f",
   "metadata": {},
   "outputs": [],
   "source": [
    "def correlation(dataset, threshold):\n",
    "    col_corr = set()  # Set of all the names of correlated columns\n",
    "    corr_matrix = dataset.corr()\n",
    "    for i in range(len(corr_matrix.columns)):\n",
    "        for j in range(i):\n",
    "            if abs(corr_matrix.iloc[i, j]) > threshold: # we are interested in absolute coeff value\n",
    "                colname = corr_matrix.columns[i]  # getting the name of column\n",
    "                col_corr.add(colname)\n",
    "    return col_corr"
   ]
  },
  {
   "cell_type": "code",
   "execution_count": 110,
   "id": "583b1aca",
   "metadata": {},
   "outputs": [],
   "source": [
    "x=ed.drop(['Result'],axis=1)\n",
    "y=ed['Result']"
   ]
  },
  {
   "cell_type": "code",
   "execution_count": 111,
   "id": "8e1b71b5",
   "metadata": {},
   "outputs": [
    {
     "data": {
      "text/plain": [
       "38"
      ]
     },
     "execution_count": 111,
     "metadata": {},
     "output_type": "execute_result"
    }
   ],
   "source": [
    "corr_features = correlation(x, 0.7)\n",
    "len(set(corr_features))"
   ]
  },
  {
   "cell_type": "code",
   "execution_count": 112,
   "id": "59ba7a6c",
   "metadata": {},
   "outputs": [
    {
     "data": {
      "text/plain": [
       "{'eligibility_numbers',\n",
       " 'eligibility_words',\n",
       " 'exclusion_numbers',\n",
       " 'exclusion_words',\n",
       " 'fatty',\n",
       " 'fibrillation',\n",
       " 'follicular',\n",
       " 'fungoides',\n",
       " 'glioma',\n",
       " 'has_oversight',\n",
       " 'iiib',\n",
       " 'iiic',\n",
       " 'immunoblastic',\n",
       " 'inclusion_numbers',\n",
       " 'inclusion_words',\n",
       " 'large',\n",
       " 'macular',\n",
       " 'markers',\n",
       " 'mixed',\n",
       " 'mycosis',\n",
       " 'myocardial',\n",
       " 'noncontiguous',\n",
       " 'operative',\n",
       " 'paranasal',\n",
       " 'performance',\n",
       " 'previously',\n",
       " 'quality',\n",
       " 'resonance',\n",
       " 'responsible_party_category_sponsor',\n",
       " 'salivary',\n",
       " 'sezary',\n",
       " 'smoking',\n",
       " 'syndromes',\n",
       " 'treated',\n",
       " 'unspecified',\n",
       " 'valve',\n",
       " 'verrucous',\n",
       " 'zone'}"
      ]
     },
     "execution_count": 112,
     "metadata": {},
     "output_type": "execute_result"
    }
   ],
   "source": [
    "corr_features"
   ]
  },
  {
   "cell_type": "code",
   "execution_count": 113,
   "id": "fe1528fa",
   "metadata": {},
   "outputs": [],
   "source": [
    "x=x.drop(corr_features,axis=1)"
   ]
  },
  {
   "cell_type": "code",
   "execution_count": 114,
   "id": "b793c83b",
   "metadata": {},
   "outputs": [
    {
     "data": {
      "text/html": [
       "<div>\n",
       "<style scoped>\n",
       "    .dataframe tbody tr th:only-of-type {\n",
       "        vertical-align: middle;\n",
       "    }\n",
       "\n",
       "    .dataframe tbody tr th {\n",
       "        vertical-align: top;\n",
       "    }\n",
       "\n",
       "    .dataframe thead th {\n",
       "        text-align: right;\n",
       "    }\n",
       "</style>\n",
       "<table border=\"1\" class=\"dataframe\">\n",
       "  <thead>\n",
       "    <tr style=\"text-align: right;\">\n",
       "      <th></th>\n",
       "      <th>nctid</th>\n",
       "      <th>target_label</th>\n",
       "      <th>number_collaborators</th>\n",
       "      <th>number_officials</th>\n",
       "      <th>num_arms</th>\n",
       "      <th>number_countries</th>\n",
       "      <th>number_sites</th>\n",
       "      <th>no_elig_req</th>\n",
       "      <th>inclusion_lines</th>\n",
       "      <th>exclusion_lines</th>\n",
       "      <th>...</th>\n",
       "      <th>90</th>\n",
       "      <th>91</th>\n",
       "      <th>92</th>\n",
       "      <th>93</th>\n",
       "      <th>94</th>\n",
       "      <th>95</th>\n",
       "      <th>96</th>\n",
       "      <th>97</th>\n",
       "      <th>98</th>\n",
       "      <th>99</th>\n",
       "    </tr>\n",
       "  </thead>\n",
       "  <tbody>\n",
       "    <tr>\n",
       "      <th>0</th>\n",
       "      <td>NCT01923116</td>\n",
       "      <td>0</td>\n",
       "      <td>2</td>\n",
       "      <td>2</td>\n",
       "      <td>1</td>\n",
       "      <td>1</td>\n",
       "      <td>1</td>\n",
       "      <td>0</td>\n",
       "      <td>6</td>\n",
       "      <td>6</td>\n",
       "      <td>...</td>\n",
       "      <td>3.039853</td>\n",
       "      <td>-3.300040</td>\n",
       "      <td>1.487360</td>\n",
       "      <td>1.478261</td>\n",
       "      <td>2.550636</td>\n",
       "      <td>1.517649</td>\n",
       "      <td>1.237359</td>\n",
       "      <td>3.249761</td>\n",
       "      <td>1.415775</td>\n",
       "      <td>1.477161</td>\n",
       "    </tr>\n",
       "    <tr>\n",
       "      <th>1</th>\n",
       "      <td>NCT01763021</td>\n",
       "      <td>0</td>\n",
       "      <td>0</td>\n",
       "      <td>1</td>\n",
       "      <td>1</td>\n",
       "      <td>1</td>\n",
       "      <td>1</td>\n",
       "      <td>0</td>\n",
       "      <td>2</td>\n",
       "      <td>4</td>\n",
       "      <td>...</td>\n",
       "      <td>0.513191</td>\n",
       "      <td>-1.393093</td>\n",
       "      <td>0.940864</td>\n",
       "      <td>0.088683</td>\n",
       "      <td>0.074904</td>\n",
       "      <td>-1.793713</td>\n",
       "      <td>0.749069</td>\n",
       "      <td>1.982955</td>\n",
       "      <td>-1.104483</td>\n",
       "      <td>1.344036</td>\n",
       "    </tr>\n",
       "    <tr>\n",
       "      <th>2</th>\n",
       "      <td>NCT01179308</td>\n",
       "      <td>1</td>\n",
       "      <td>0</td>\n",
       "      <td>1</td>\n",
       "      <td>2</td>\n",
       "      <td>2</td>\n",
       "      <td>2</td>\n",
       "      <td>0</td>\n",
       "      <td>3</td>\n",
       "      <td>4</td>\n",
       "      <td>...</td>\n",
       "      <td>2.163420</td>\n",
       "      <td>-0.411902</td>\n",
       "      <td>-0.035816</td>\n",
       "      <td>3.557102</td>\n",
       "      <td>-2.521656</td>\n",
       "      <td>-3.917873</td>\n",
       "      <td>0.496561</td>\n",
       "      <td>1.281240</td>\n",
       "      <td>-0.059275</td>\n",
       "      <td>-0.031860</td>\n",
       "    </tr>\n",
       "    <tr>\n",
       "      <th>3</th>\n",
       "      <td>NCT00427778</td>\n",
       "      <td>1</td>\n",
       "      <td>1</td>\n",
       "      <td>1</td>\n",
       "      <td>2</td>\n",
       "      <td>1</td>\n",
       "      <td>1</td>\n",
       "      <td>0</td>\n",
       "      <td>3</td>\n",
       "      <td>3</td>\n",
       "      <td>...</td>\n",
       "      <td>3.769808</td>\n",
       "      <td>-1.176595</td>\n",
       "      <td>0.247578</td>\n",
       "      <td>1.944952</td>\n",
       "      <td>-0.830502</td>\n",
       "      <td>0.593395</td>\n",
       "      <td>-2.722616</td>\n",
       "      <td>0.866244</td>\n",
       "      <td>2.003813</td>\n",
       "      <td>1.861063</td>\n",
       "    </tr>\n",
       "    <tr>\n",
       "      <th>4</th>\n",
       "      <td>NCT00376467</td>\n",
       "      <td>0</td>\n",
       "      <td>0</td>\n",
       "      <td>1</td>\n",
       "      <td>0</td>\n",
       "      <td>1</td>\n",
       "      <td>28</td>\n",
       "      <td>0</td>\n",
       "      <td>3</td>\n",
       "      <td>9</td>\n",
       "      <td>...</td>\n",
       "      <td>-2.228156</td>\n",
       "      <td>-4.341137</td>\n",
       "      <td>1.126694</td>\n",
       "      <td>2.487203</td>\n",
       "      <td>1.253972</td>\n",
       "      <td>-0.105168</td>\n",
       "      <td>3.125254</td>\n",
       "      <td>3.700899</td>\n",
       "      <td>1.906987</td>\n",
       "      <td>3.855995</td>\n",
       "    </tr>\n",
       "    <tr>\n",
       "      <th>...</th>\n",
       "      <td>...</td>\n",
       "      <td>...</td>\n",
       "      <td>...</td>\n",
       "      <td>...</td>\n",
       "      <td>...</td>\n",
       "      <td>...</td>\n",
       "      <td>...</td>\n",
       "      <td>...</td>\n",
       "      <td>...</td>\n",
       "      <td>...</td>\n",
       "      <td>...</td>\n",
       "      <td>...</td>\n",
       "      <td>...</td>\n",
       "      <td>...</td>\n",
       "      <td>...</td>\n",
       "      <td>...</td>\n",
       "      <td>...</td>\n",
       "      <td>...</td>\n",
       "      <td>...</td>\n",
       "      <td>...</td>\n",
       "      <td>...</td>\n",
       "    </tr>\n",
       "    <tr>\n",
       "      <th>999</th>\n",
       "      <td>NCT01833390</td>\n",
       "      <td>0</td>\n",
       "      <td>3</td>\n",
       "      <td>2</td>\n",
       "      <td>1</td>\n",
       "      <td>1</td>\n",
       "      <td>1</td>\n",
       "      <td>0</td>\n",
       "      <td>0</td>\n",
       "      <td>11</td>\n",
       "      <td>...</td>\n",
       "      <td>0.988170</td>\n",
       "      <td>-1.496434</td>\n",
       "      <td>0.708324</td>\n",
       "      <td>2.234029</td>\n",
       "      <td>-0.475935</td>\n",
       "      <td>-1.077623</td>\n",
       "      <td>1.361815</td>\n",
       "      <td>0.232516</td>\n",
       "      <td>0.161752</td>\n",
       "      <td>-1.495629</td>\n",
       "    </tr>\n",
       "    <tr>\n",
       "      <th>1000</th>\n",
       "      <td>NCT01953250</td>\n",
       "      <td>0</td>\n",
       "      <td>0</td>\n",
       "      <td>1</td>\n",
       "      <td>0</td>\n",
       "      <td>1</td>\n",
       "      <td>1</td>\n",
       "      <td>0</td>\n",
       "      <td>1</td>\n",
       "      <td>0</td>\n",
       "      <td>...</td>\n",
       "      <td>0.486192</td>\n",
       "      <td>0.103711</td>\n",
       "      <td>0.753802</td>\n",
       "      <td>0.333810</td>\n",
       "      <td>0.357244</td>\n",
       "      <td>-0.829446</td>\n",
       "      <td>-0.353592</td>\n",
       "      <td>1.204353</td>\n",
       "      <td>0.996685</td>\n",
       "      <td>0.433562</td>\n",
       "    </tr>\n",
       "    <tr>\n",
       "      <th>1001</th>\n",
       "      <td>NCT02048046</td>\n",
       "      <td>0</td>\n",
       "      <td>0</td>\n",
       "      <td>0</td>\n",
       "      <td>0</td>\n",
       "      <td>2</td>\n",
       "      <td>7</td>\n",
       "      <td>0</td>\n",
       "      <td>4</td>\n",
       "      <td>1</td>\n",
       "      <td>...</td>\n",
       "      <td>0.165894</td>\n",
       "      <td>-0.503749</td>\n",
       "      <td>0.521038</td>\n",
       "      <td>0.261577</td>\n",
       "      <td>1.188807</td>\n",
       "      <td>1.414945</td>\n",
       "      <td>-1.611976</td>\n",
       "      <td>1.868101</td>\n",
       "      <td>-0.219925</td>\n",
       "      <td>0.007089</td>\n",
       "    </tr>\n",
       "    <tr>\n",
       "      <th>1002</th>\n",
       "      <td>NCT01310582</td>\n",
       "      <td>0</td>\n",
       "      <td>1</td>\n",
       "      <td>1</td>\n",
       "      <td>2</td>\n",
       "      <td>1</td>\n",
       "      <td>1</td>\n",
       "      <td>0</td>\n",
       "      <td>4</td>\n",
       "      <td>5</td>\n",
       "      <td>...</td>\n",
       "      <td>-0.300523</td>\n",
       "      <td>1.466321</td>\n",
       "      <td>2.024642</td>\n",
       "      <td>0.856290</td>\n",
       "      <td>-1.512640</td>\n",
       "      <td>-0.472398</td>\n",
       "      <td>-3.330396</td>\n",
       "      <td>-1.355578</td>\n",
       "      <td>0.184672</td>\n",
       "      <td>-0.191847</td>\n",
       "    </tr>\n",
       "    <tr>\n",
       "      <th>1003</th>\n",
       "      <td>NCT00738023</td>\n",
       "      <td>0</td>\n",
       "      <td>1</td>\n",
       "      <td>1</td>\n",
       "      <td>2</td>\n",
       "      <td>1</td>\n",
       "      <td>1</td>\n",
       "      <td>0</td>\n",
       "      <td>7</td>\n",
       "      <td>8</td>\n",
       "      <td>...</td>\n",
       "      <td>1.718693</td>\n",
       "      <td>-0.819774</td>\n",
       "      <td>0.201326</td>\n",
       "      <td>-0.669276</td>\n",
       "      <td>0.763692</td>\n",
       "      <td>-0.223064</td>\n",
       "      <td>-1.150251</td>\n",
       "      <td>-1.137256</td>\n",
       "      <td>1.346480</td>\n",
       "      <td>1.542211</td>\n",
       "    </tr>\n",
       "  </tbody>\n",
       "</table>\n",
       "<p>1003 rows × 604 columns</p>\n",
       "</div>"
      ],
      "text/plain": [
       "            nctid  target_label  number_collaborators  number_officials  \\\n",
       "0     NCT01923116             0                     2                 2   \n",
       "1     NCT01763021             0                     0                 1   \n",
       "2     NCT01179308             1                     0                 1   \n",
       "3     NCT00427778             1                     1                 1   \n",
       "4     NCT00376467             0                     0                 1   \n",
       "...           ...           ...                   ...               ...   \n",
       "999   NCT01833390             0                     3                 2   \n",
       "1000  NCT01953250             0                     0                 1   \n",
       "1001  NCT02048046             0                     0                 0   \n",
       "1002  NCT01310582             0                     1                 1   \n",
       "1003  NCT00738023             0                     1                 1   \n",
       "\n",
       "      num_arms  number_countries  number_sites  no_elig_req  inclusion_lines  \\\n",
       "0            1                 1             1            0                6   \n",
       "1            1                 1             1            0                2   \n",
       "2            2                 2             2            0                3   \n",
       "3            2                 1             1            0                3   \n",
       "4            0                 1            28            0                3   \n",
       "...        ...               ...           ...          ...              ...   \n",
       "999          1                 1             1            0                0   \n",
       "1000         0                 1             1            0                1   \n",
       "1001         0                 2             7            0                4   \n",
       "1002         2                 1             1            0                4   \n",
       "1003         2                 1             1            0                7   \n",
       "\n",
       "      exclusion_lines  ...        90        91        92        93        94  \\\n",
       "0                   6  ...  3.039853 -3.300040  1.487360  1.478261  2.550636   \n",
       "1                   4  ...  0.513191 -1.393093  0.940864  0.088683  0.074904   \n",
       "2                   4  ...  2.163420 -0.411902 -0.035816  3.557102 -2.521656   \n",
       "3                   3  ...  3.769808 -1.176595  0.247578  1.944952 -0.830502   \n",
       "4                   9  ... -2.228156 -4.341137  1.126694  2.487203  1.253972   \n",
       "...               ...  ...       ...       ...       ...       ...       ...   \n",
       "999                11  ...  0.988170 -1.496434  0.708324  2.234029 -0.475935   \n",
       "1000                0  ...  0.486192  0.103711  0.753802  0.333810  0.357244   \n",
       "1001                1  ...  0.165894 -0.503749  0.521038  0.261577  1.188807   \n",
       "1002                5  ... -0.300523  1.466321  2.024642  0.856290 -1.512640   \n",
       "1003                8  ...  1.718693 -0.819774  0.201326 -0.669276  0.763692   \n",
       "\n",
       "            95        96        97        98        99  \n",
       "0     1.517649  1.237359  3.249761  1.415775  1.477161  \n",
       "1    -1.793713  0.749069  1.982955 -1.104483  1.344036  \n",
       "2    -3.917873  0.496561  1.281240 -0.059275 -0.031860  \n",
       "3     0.593395 -2.722616  0.866244  2.003813  1.861063  \n",
       "4    -0.105168  3.125254  3.700899  1.906987  3.855995  \n",
       "...        ...       ...       ...       ...       ...  \n",
       "999  -1.077623  1.361815  0.232516  0.161752 -1.495629  \n",
       "1000 -0.829446 -0.353592  1.204353  0.996685  0.433562  \n",
       "1001  1.414945 -1.611976  1.868101 -0.219925  0.007089  \n",
       "1002 -0.472398 -3.330396 -1.355578  0.184672 -0.191847  \n",
       "1003 -0.223064 -1.150251 -1.137256  1.346480  1.542211  \n",
       "\n",
       "[1003 rows x 604 columns]"
      ]
     },
     "execution_count": 114,
     "metadata": {},
     "output_type": "execute_result"
    }
   ],
   "source": [
    "x"
   ]
  },
  {
   "cell_type": "code",
   "execution_count": 115,
   "id": "39f844db",
   "metadata": {},
   "outputs": [],
   "source": [
    "x=x.drop(['nctid'],axis=1)"
   ]
  },
  {
   "cell_type": "code",
   "execution_count": 116,
   "id": "25ecc8cf",
   "metadata": {},
   "outputs": [
    {
     "data": {
      "text/html": [
       "<div>\n",
       "<style scoped>\n",
       "    .dataframe tbody tr th:only-of-type {\n",
       "        vertical-align: middle;\n",
       "    }\n",
       "\n",
       "    .dataframe tbody tr th {\n",
       "        vertical-align: top;\n",
       "    }\n",
       "\n",
       "    .dataframe thead th {\n",
       "        text-align: right;\n",
       "    }\n",
       "</style>\n",
       "<table border=\"1\" class=\"dataframe\">\n",
       "  <thead>\n",
       "    <tr style=\"text-align: right;\">\n",
       "      <th></th>\n",
       "      <th>target_label</th>\n",
       "      <th>number_collaborators</th>\n",
       "      <th>number_officials</th>\n",
       "      <th>num_arms</th>\n",
       "      <th>number_countries</th>\n",
       "      <th>number_sites</th>\n",
       "      <th>no_elig_req</th>\n",
       "      <th>inclusion_lines</th>\n",
       "      <th>exclusion_lines</th>\n",
       "      <th>eligibility_lines</th>\n",
       "      <th>...</th>\n",
       "      <th>90</th>\n",
       "      <th>91</th>\n",
       "      <th>92</th>\n",
       "      <th>93</th>\n",
       "      <th>94</th>\n",
       "      <th>95</th>\n",
       "      <th>96</th>\n",
       "      <th>97</th>\n",
       "      <th>98</th>\n",
       "      <th>99</th>\n",
       "    </tr>\n",
       "  </thead>\n",
       "  <tbody>\n",
       "    <tr>\n",
       "      <th>0</th>\n",
       "      <td>0</td>\n",
       "      <td>2</td>\n",
       "      <td>2</td>\n",
       "      <td>1</td>\n",
       "      <td>1</td>\n",
       "      <td>1</td>\n",
       "      <td>0</td>\n",
       "      <td>6</td>\n",
       "      <td>6</td>\n",
       "      <td>14</td>\n",
       "      <td>...</td>\n",
       "      <td>3.039853</td>\n",
       "      <td>-3.300040</td>\n",
       "      <td>1.487360</td>\n",
       "      <td>1.478261</td>\n",
       "      <td>2.550636</td>\n",
       "      <td>1.517649</td>\n",
       "      <td>1.237359</td>\n",
       "      <td>3.249761</td>\n",
       "      <td>1.415775</td>\n",
       "      <td>1.477161</td>\n",
       "    </tr>\n",
       "    <tr>\n",
       "      <th>1</th>\n",
       "      <td>0</td>\n",
       "      <td>0</td>\n",
       "      <td>1</td>\n",
       "      <td>1</td>\n",
       "      <td>1</td>\n",
       "      <td>1</td>\n",
       "      <td>0</td>\n",
       "      <td>2</td>\n",
       "      <td>4</td>\n",
       "      <td>8</td>\n",
       "      <td>...</td>\n",
       "      <td>0.513191</td>\n",
       "      <td>-1.393093</td>\n",
       "      <td>0.940864</td>\n",
       "      <td>0.088683</td>\n",
       "      <td>0.074904</td>\n",
       "      <td>-1.793713</td>\n",
       "      <td>0.749069</td>\n",
       "      <td>1.982955</td>\n",
       "      <td>-1.104483</td>\n",
       "      <td>1.344036</td>\n",
       "    </tr>\n",
       "    <tr>\n",
       "      <th>2</th>\n",
       "      <td>1</td>\n",
       "      <td>0</td>\n",
       "      <td>1</td>\n",
       "      <td>2</td>\n",
       "      <td>2</td>\n",
       "      <td>2</td>\n",
       "      <td>0</td>\n",
       "      <td>3</td>\n",
       "      <td>4</td>\n",
       "      <td>9</td>\n",
       "      <td>...</td>\n",
       "      <td>2.163420</td>\n",
       "      <td>-0.411902</td>\n",
       "      <td>-0.035816</td>\n",
       "      <td>3.557102</td>\n",
       "      <td>-2.521656</td>\n",
       "      <td>-3.917873</td>\n",
       "      <td>0.496561</td>\n",
       "      <td>1.281240</td>\n",
       "      <td>-0.059275</td>\n",
       "      <td>-0.031860</td>\n",
       "    </tr>\n",
       "    <tr>\n",
       "      <th>3</th>\n",
       "      <td>1</td>\n",
       "      <td>1</td>\n",
       "      <td>1</td>\n",
       "      <td>2</td>\n",
       "      <td>1</td>\n",
       "      <td>1</td>\n",
       "      <td>0</td>\n",
       "      <td>3</td>\n",
       "      <td>3</td>\n",
       "      <td>8</td>\n",
       "      <td>...</td>\n",
       "      <td>3.769808</td>\n",
       "      <td>-1.176595</td>\n",
       "      <td>0.247578</td>\n",
       "      <td>1.944952</td>\n",
       "      <td>-0.830502</td>\n",
       "      <td>0.593395</td>\n",
       "      <td>-2.722616</td>\n",
       "      <td>0.866244</td>\n",
       "      <td>2.003813</td>\n",
       "      <td>1.861063</td>\n",
       "    </tr>\n",
       "    <tr>\n",
       "      <th>4</th>\n",
       "      <td>0</td>\n",
       "      <td>0</td>\n",
       "      <td>1</td>\n",
       "      <td>0</td>\n",
       "      <td>1</td>\n",
       "      <td>28</td>\n",
       "      <td>0</td>\n",
       "      <td>3</td>\n",
       "      <td>9</td>\n",
       "      <td>14</td>\n",
       "      <td>...</td>\n",
       "      <td>-2.228156</td>\n",
       "      <td>-4.341137</td>\n",
       "      <td>1.126694</td>\n",
       "      <td>2.487203</td>\n",
       "      <td>1.253972</td>\n",
       "      <td>-0.105168</td>\n",
       "      <td>3.125254</td>\n",
       "      <td>3.700899</td>\n",
       "      <td>1.906987</td>\n",
       "      <td>3.855995</td>\n",
       "    </tr>\n",
       "    <tr>\n",
       "      <th>...</th>\n",
       "      <td>...</td>\n",
       "      <td>...</td>\n",
       "      <td>...</td>\n",
       "      <td>...</td>\n",
       "      <td>...</td>\n",
       "      <td>...</td>\n",
       "      <td>...</td>\n",
       "      <td>...</td>\n",
       "      <td>...</td>\n",
       "      <td>...</td>\n",
       "      <td>...</td>\n",
       "      <td>...</td>\n",
       "      <td>...</td>\n",
       "      <td>...</td>\n",
       "      <td>...</td>\n",
       "      <td>...</td>\n",
       "      <td>...</td>\n",
       "      <td>...</td>\n",
       "      <td>...</td>\n",
       "      <td>...</td>\n",
       "      <td>...</td>\n",
       "    </tr>\n",
       "    <tr>\n",
       "      <th>999</th>\n",
       "      <td>0</td>\n",
       "      <td>3</td>\n",
       "      <td>2</td>\n",
       "      <td>1</td>\n",
       "      <td>1</td>\n",
       "      <td>1</td>\n",
       "      <td>0</td>\n",
       "      <td>0</td>\n",
       "      <td>11</td>\n",
       "      <td>25</td>\n",
       "      <td>...</td>\n",
       "      <td>0.988170</td>\n",
       "      <td>-1.496434</td>\n",
       "      <td>0.708324</td>\n",
       "      <td>2.234029</td>\n",
       "      <td>-0.475935</td>\n",
       "      <td>-1.077623</td>\n",
       "      <td>1.361815</td>\n",
       "      <td>0.232516</td>\n",
       "      <td>0.161752</td>\n",
       "      <td>-1.495629</td>\n",
       "    </tr>\n",
       "    <tr>\n",
       "      <th>1000</th>\n",
       "      <td>0</td>\n",
       "      <td>0</td>\n",
       "      <td>1</td>\n",
       "      <td>0</td>\n",
       "      <td>1</td>\n",
       "      <td>1</td>\n",
       "      <td>0</td>\n",
       "      <td>1</td>\n",
       "      <td>0</td>\n",
       "      <td>3</td>\n",
       "      <td>...</td>\n",
       "      <td>0.486192</td>\n",
       "      <td>0.103711</td>\n",
       "      <td>0.753802</td>\n",
       "      <td>0.333810</td>\n",
       "      <td>0.357244</td>\n",
       "      <td>-0.829446</td>\n",
       "      <td>-0.353592</td>\n",
       "      <td>1.204353</td>\n",
       "      <td>0.996685</td>\n",
       "      <td>0.433562</td>\n",
       "    </tr>\n",
       "    <tr>\n",
       "      <th>1001</th>\n",
       "      <td>0</td>\n",
       "      <td>0</td>\n",
       "      <td>0</td>\n",
       "      <td>0</td>\n",
       "      <td>2</td>\n",
       "      <td>7</td>\n",
       "      <td>0</td>\n",
       "      <td>4</td>\n",
       "      <td>1</td>\n",
       "      <td>7</td>\n",
       "      <td>...</td>\n",
       "      <td>0.165894</td>\n",
       "      <td>-0.503749</td>\n",
       "      <td>0.521038</td>\n",
       "      <td>0.261577</td>\n",
       "      <td>1.188807</td>\n",
       "      <td>1.414945</td>\n",
       "      <td>-1.611976</td>\n",
       "      <td>1.868101</td>\n",
       "      <td>-0.219925</td>\n",
       "      <td>0.007089</td>\n",
       "    </tr>\n",
       "    <tr>\n",
       "      <th>1002</th>\n",
       "      <td>0</td>\n",
       "      <td>1</td>\n",
       "      <td>1</td>\n",
       "      <td>2</td>\n",
       "      <td>1</td>\n",
       "      <td>1</td>\n",
       "      <td>0</td>\n",
       "      <td>4</td>\n",
       "      <td>5</td>\n",
       "      <td>11</td>\n",
       "      <td>...</td>\n",
       "      <td>-0.300523</td>\n",
       "      <td>1.466321</td>\n",
       "      <td>2.024642</td>\n",
       "      <td>0.856290</td>\n",
       "      <td>-1.512640</td>\n",
       "      <td>-0.472398</td>\n",
       "      <td>-3.330396</td>\n",
       "      <td>-1.355578</td>\n",
       "      <td>0.184672</td>\n",
       "      <td>-0.191847</td>\n",
       "    </tr>\n",
       "    <tr>\n",
       "      <th>1003</th>\n",
       "      <td>0</td>\n",
       "      <td>1</td>\n",
       "      <td>1</td>\n",
       "      <td>2</td>\n",
       "      <td>1</td>\n",
       "      <td>1</td>\n",
       "      <td>0</td>\n",
       "      <td>7</td>\n",
       "      <td>8</td>\n",
       "      <td>17</td>\n",
       "      <td>...</td>\n",
       "      <td>1.718693</td>\n",
       "      <td>-0.819774</td>\n",
       "      <td>0.201326</td>\n",
       "      <td>-0.669276</td>\n",
       "      <td>0.763692</td>\n",
       "      <td>-0.223064</td>\n",
       "      <td>-1.150251</td>\n",
       "      <td>-1.137256</td>\n",
       "      <td>1.346480</td>\n",
       "      <td>1.542211</td>\n",
       "    </tr>\n",
       "  </tbody>\n",
       "</table>\n",
       "<p>1003 rows × 603 columns</p>\n",
       "</div>"
      ],
      "text/plain": [
       "      target_label  number_collaborators  number_officials  num_arms  \\\n",
       "0                0                     2                 2         1   \n",
       "1                0                     0                 1         1   \n",
       "2                1                     0                 1         2   \n",
       "3                1                     1                 1         2   \n",
       "4                0                     0                 1         0   \n",
       "...            ...                   ...               ...       ...   \n",
       "999              0                     3                 2         1   \n",
       "1000             0                     0                 1         0   \n",
       "1001             0                     0                 0         0   \n",
       "1002             0                     1                 1         2   \n",
       "1003             0                     1                 1         2   \n",
       "\n",
       "      number_countries  number_sites  no_elig_req  inclusion_lines  \\\n",
       "0                    1             1            0                6   \n",
       "1                    1             1            0                2   \n",
       "2                    2             2            0                3   \n",
       "3                    1             1            0                3   \n",
       "4                    1            28            0                3   \n",
       "...                ...           ...          ...              ...   \n",
       "999                  1             1            0                0   \n",
       "1000                 1             1            0                1   \n",
       "1001                 2             7            0                4   \n",
       "1002                 1             1            0                4   \n",
       "1003                 1             1            0                7   \n",
       "\n",
       "      exclusion_lines  eligibility_lines  ...        90        91        92  \\\n",
       "0                   6                 14  ...  3.039853 -3.300040  1.487360   \n",
       "1                   4                  8  ...  0.513191 -1.393093  0.940864   \n",
       "2                   4                  9  ...  2.163420 -0.411902 -0.035816   \n",
       "3                   3                  8  ...  3.769808 -1.176595  0.247578   \n",
       "4                   9                 14  ... -2.228156 -4.341137  1.126694   \n",
       "...               ...                ...  ...       ...       ...       ...   \n",
       "999                11                 25  ...  0.988170 -1.496434  0.708324   \n",
       "1000                0                  3  ...  0.486192  0.103711  0.753802   \n",
       "1001                1                  7  ...  0.165894 -0.503749  0.521038   \n",
       "1002                5                 11  ... -0.300523  1.466321  2.024642   \n",
       "1003                8                 17  ...  1.718693 -0.819774  0.201326   \n",
       "\n",
       "            93        94        95        96        97        98        99  \n",
       "0     1.478261  2.550636  1.517649  1.237359  3.249761  1.415775  1.477161  \n",
       "1     0.088683  0.074904 -1.793713  0.749069  1.982955 -1.104483  1.344036  \n",
       "2     3.557102 -2.521656 -3.917873  0.496561  1.281240 -0.059275 -0.031860  \n",
       "3     1.944952 -0.830502  0.593395 -2.722616  0.866244  2.003813  1.861063  \n",
       "4     2.487203  1.253972 -0.105168  3.125254  3.700899  1.906987  3.855995  \n",
       "...        ...       ...       ...       ...       ...       ...       ...  \n",
       "999   2.234029 -0.475935 -1.077623  1.361815  0.232516  0.161752 -1.495629  \n",
       "1000  0.333810  0.357244 -0.829446 -0.353592  1.204353  0.996685  0.433562  \n",
       "1001  0.261577  1.188807  1.414945 -1.611976  1.868101 -0.219925  0.007089  \n",
       "1002  0.856290 -1.512640 -0.472398 -3.330396 -1.355578  0.184672 -0.191847  \n",
       "1003 -0.669276  0.763692 -0.223064 -1.150251 -1.137256  1.346480  1.542211  \n",
       "\n",
       "[1003 rows x 603 columns]"
      ]
     },
     "execution_count": 116,
     "metadata": {},
     "output_type": "execute_result"
    }
   ],
   "source": [
    "x"
   ]
  },
  {
   "cell_type": "code",
   "execution_count": 117,
   "id": "6914ca37",
   "metadata": {},
   "outputs": [],
   "source": [
    "from sklearn.model_selection import train_test_split"
   ]
  },
  {
   "cell_type": "code",
   "execution_count": 118,
   "id": "48f608f9",
   "metadata": {},
   "outputs": [],
   "source": [
    "x_train,x_test,y_train,y_test=train_test_split(x,y,test_size=0.3,random_state=0)"
   ]
  },
  {
   "cell_type": "code",
   "execution_count": 119,
   "id": "fbee57bd",
   "metadata": {},
   "outputs": [],
   "source": [
    "from sklearn.linear_model import LogisticRegression"
   ]
  },
  {
   "cell_type": "code",
   "execution_count": 120,
   "id": "ada4e4b4",
   "metadata": {},
   "outputs": [],
   "source": [
    "lr=LogisticRegression()"
   ]
  },
  {
   "cell_type": "code",
   "execution_count": 121,
   "id": "f3611c5e",
   "metadata": {},
   "outputs": [
    {
     "name": "stderr",
     "output_type": "stream",
     "text": [
      "C:\\Users\\rabhi\\anaconda3\\lib\\site-packages\\sklearn\\linear_model\\_logistic.py:458: ConvergenceWarning: lbfgs failed to converge (status=1):\n",
      "STOP: TOTAL NO. of ITERATIONS REACHED LIMIT.\n",
      "\n",
      "Increase the number of iterations (max_iter) or scale the data as shown in:\n",
      "    https://scikit-learn.org/stable/modules/preprocessing.html\n",
      "Please also refer to the documentation for alternative solver options:\n",
      "    https://scikit-learn.org/stable/modules/linear_model.html#logistic-regression\n",
      "  n_iter_i = _check_optimize_result(\n"
     ]
    },
    {
     "data": {
      "text/html": [
       "<style>#sk-container-id-5 {color: black;background-color: white;}#sk-container-id-5 pre{padding: 0;}#sk-container-id-5 div.sk-toggleable {background-color: white;}#sk-container-id-5 label.sk-toggleable__label {cursor: pointer;display: block;width: 100%;margin-bottom: 0;padding: 0.3em;box-sizing: border-box;text-align: center;}#sk-container-id-5 label.sk-toggleable__label-arrow:before {content: \"▸\";float: left;margin-right: 0.25em;color: #696969;}#sk-container-id-5 label.sk-toggleable__label-arrow:hover:before {color: black;}#sk-container-id-5 div.sk-estimator:hover label.sk-toggleable__label-arrow:before {color: black;}#sk-container-id-5 div.sk-toggleable__content {max-height: 0;max-width: 0;overflow: hidden;text-align: left;background-color: #f0f8ff;}#sk-container-id-5 div.sk-toggleable__content pre {margin: 0.2em;color: black;border-radius: 0.25em;background-color: #f0f8ff;}#sk-container-id-5 input.sk-toggleable__control:checked~div.sk-toggleable__content {max-height: 200px;max-width: 100%;overflow: auto;}#sk-container-id-5 input.sk-toggleable__control:checked~label.sk-toggleable__label-arrow:before {content: \"▾\";}#sk-container-id-5 div.sk-estimator input.sk-toggleable__control:checked~label.sk-toggleable__label {background-color: #d4ebff;}#sk-container-id-5 div.sk-label input.sk-toggleable__control:checked~label.sk-toggleable__label {background-color: #d4ebff;}#sk-container-id-5 input.sk-hidden--visually {border: 0;clip: rect(1px 1px 1px 1px);clip: rect(1px, 1px, 1px, 1px);height: 1px;margin: -1px;overflow: hidden;padding: 0;position: absolute;width: 1px;}#sk-container-id-5 div.sk-estimator {font-family: monospace;background-color: #f0f8ff;border: 1px dotted black;border-radius: 0.25em;box-sizing: border-box;margin-bottom: 0.5em;}#sk-container-id-5 div.sk-estimator:hover {background-color: #d4ebff;}#sk-container-id-5 div.sk-parallel-item::after {content: \"\";width: 100%;border-bottom: 1px solid gray;flex-grow: 1;}#sk-container-id-5 div.sk-label:hover label.sk-toggleable__label {background-color: #d4ebff;}#sk-container-id-5 div.sk-serial::before {content: \"\";position: absolute;border-left: 1px solid gray;box-sizing: border-box;top: 0;bottom: 0;left: 50%;z-index: 0;}#sk-container-id-5 div.sk-serial {display: flex;flex-direction: column;align-items: center;background-color: white;padding-right: 0.2em;padding-left: 0.2em;position: relative;}#sk-container-id-5 div.sk-item {position: relative;z-index: 1;}#sk-container-id-5 div.sk-parallel {display: flex;align-items: stretch;justify-content: center;background-color: white;position: relative;}#sk-container-id-5 div.sk-item::before, #sk-container-id-5 div.sk-parallel-item::before {content: \"\";position: absolute;border-left: 1px solid gray;box-sizing: border-box;top: 0;bottom: 0;left: 50%;z-index: -1;}#sk-container-id-5 div.sk-parallel-item {display: flex;flex-direction: column;z-index: 1;position: relative;background-color: white;}#sk-container-id-5 div.sk-parallel-item:first-child::after {align-self: flex-end;width: 50%;}#sk-container-id-5 div.sk-parallel-item:last-child::after {align-self: flex-start;width: 50%;}#sk-container-id-5 div.sk-parallel-item:only-child::after {width: 0;}#sk-container-id-5 div.sk-dashed-wrapped {border: 1px dashed gray;margin: 0 0.4em 0.5em 0.4em;box-sizing: border-box;padding-bottom: 0.4em;background-color: white;}#sk-container-id-5 div.sk-label label {font-family: monospace;font-weight: bold;display: inline-block;line-height: 1.2em;}#sk-container-id-5 div.sk-label-container {text-align: center;}#sk-container-id-5 div.sk-container {/* jupyter's `normalize.less` sets `[hidden] { display: none; }` but bootstrap.min.css set `[hidden] { display: none !important; }` so we also need the `!important` here to be able to override the default hidden behavior on the sphinx rendered scikit-learn.org. See: https://github.com/scikit-learn/scikit-learn/issues/21755 */display: inline-block !important;position: relative;}#sk-container-id-5 div.sk-text-repr-fallback {display: none;}</style><div id=\"sk-container-id-5\" class=\"sk-top-container\"><div class=\"sk-text-repr-fallback\"><pre>LogisticRegression()</pre><b>In a Jupyter environment, please rerun this cell to show the HTML representation or trust the notebook. <br />On GitHub, the HTML representation is unable to render, please try loading this page with nbviewer.org.</b></div><div class=\"sk-container\" hidden><div class=\"sk-item\"><div class=\"sk-estimator sk-toggleable\"><input class=\"sk-toggleable__control sk-hidden--visually\" id=\"sk-estimator-id-5\" type=\"checkbox\" checked><label for=\"sk-estimator-id-5\" class=\"sk-toggleable__label sk-toggleable__label-arrow\">LogisticRegression</label><div class=\"sk-toggleable__content\"><pre>LogisticRegression()</pre></div></div></div></div></div>"
      ],
      "text/plain": [
       "LogisticRegression()"
      ]
     },
     "execution_count": 121,
     "metadata": {},
     "output_type": "execute_result"
    }
   ],
   "source": [
    "lr.fit(x_train,y_train)"
   ]
  },
  {
   "cell_type": "code",
   "execution_count": 122,
   "id": "6c941303",
   "metadata": {},
   "outputs": [],
   "source": [
    "y_pred_lr=lr.predict(x_test)"
   ]
  },
  {
   "cell_type": "code",
   "execution_count": 123,
   "id": "942f40c5",
   "metadata": {},
   "outputs": [
    {
     "data": {
      "text/plain": [
       "array([0, 0, 0, 0, 1, 0, 0, 0, 1, 0, 1, 0, 0, 0, 0, 0, 0, 0, 0, 0, 0, 0,\n",
       "       0, 0, 0, 0, 0, 0, 0, 0, 0, 0, 0, 0, 0, 0, 0, 0, 1, 0, 0, 0, 0, 0,\n",
       "       0, 0, 0, 0, 0, 0, 0, 0, 0, 1, 0, 0, 0, 0, 0, 0, 0, 0, 0, 0, 0, 0,\n",
       "       0, 0, 0, 0, 0, 0, 0, 0, 0, 0, 0, 0, 0, 0, 0, 0, 0, 0, 0, 0, 0, 0,\n",
       "       0, 0, 0, 0, 0, 0, 0, 0, 0, 0, 0, 0, 0, 0, 0, 0, 0, 0, 1, 0, 0, 0,\n",
       "       0, 0, 0, 0, 0, 0, 0, 0, 0, 0, 0, 0, 0, 0, 0, 0, 1, 0, 0, 0, 0, 0,\n",
       "       0, 0, 0, 0, 0, 0, 0, 0, 1, 0, 0, 0, 0, 0, 0, 0, 0, 1, 0, 0, 0, 0,\n",
       "       1, 0, 0, 0, 0, 0, 0, 0, 1, 0, 1, 0, 0, 0, 0, 0, 0, 0, 0, 0, 0, 0,\n",
       "       0, 0, 0, 1, 0, 0, 0, 0, 0, 0, 0, 0, 0, 0, 0, 0, 0, 0, 0, 0, 0, 0,\n",
       "       0, 0, 0, 0, 0, 1, 0, 0, 0, 0, 0, 1, 0, 0, 0, 0, 0, 0, 0, 0, 0, 0,\n",
       "       0, 0, 0, 0, 0, 0, 0, 0, 0, 0, 0, 0, 0, 0, 1, 0, 0, 0, 0, 0, 0, 0,\n",
       "       0, 0, 0, 1, 0, 1, 0, 0, 0, 0, 0, 0, 0, 0, 0, 0, 0, 0, 0, 0, 0, 0,\n",
       "       0, 0, 1, 1, 0, 0, 0, 0, 0, 0, 0, 0, 0, 0, 0, 0, 0, 0, 0, 0, 0, 0,\n",
       "       0, 0, 0, 0, 0, 0, 0, 0, 0, 0, 0, 0, 0, 0, 0])"
      ]
     },
     "execution_count": 123,
     "metadata": {},
     "output_type": "execute_result"
    }
   ],
   "source": [
    "y_pred_lr"
   ]
  },
  {
   "cell_type": "code",
   "execution_count": 124,
   "id": "45885d59",
   "metadata": {},
   "outputs": [],
   "source": [
    "from sklearn.metrics import classification_report,precision_score,recall_score,f1_score"
   ]
  },
  {
   "cell_type": "code",
   "execution_count": 125,
   "id": "cfb04222",
   "metadata": {},
   "outputs": [
    {
     "data": {
      "text/plain": [
       "0.9822064056939501"
      ]
     },
     "execution_count": 125,
     "metadata": {},
     "output_type": "execute_result"
    }
   ],
   "source": [
    "precision_score(y_test,y_pred_lr,average='macro')"
   ]
  },
  {
   "cell_type": "code",
   "execution_count": 126,
   "id": "9dbd4744",
   "metadata": {},
   "outputs": [
    {
     "data": {
      "text/plain": [
       "0.9679597072628605"
      ]
     },
     "execution_count": 126,
     "metadata": {},
     "output_type": "execute_result"
    }
   ],
   "source": [
    "precision_score(y_test,y_pred_lr,average='weighted')"
   ]
  },
  {
   "cell_type": "code",
   "execution_count": 127,
   "id": "9fbba770",
   "metadata": {},
   "outputs": [
    {
     "data": {
      "text/plain": [
       "0.8333333333333333"
      ]
     },
     "execution_count": 127,
     "metadata": {},
     "output_type": "execute_result"
    }
   ],
   "source": [
    "recall_score(y_test,y_pred_lr,average='macro')"
   ]
  },
  {
   "cell_type": "code",
   "execution_count": 128,
   "id": "d810b5c4",
   "metadata": {},
   "outputs": [
    {
     "data": {
      "text/plain": [
       "0.9667774086378738"
      ]
     },
     "execution_count": 128,
     "metadata": {},
     "output_type": "execute_result"
    }
   ],
   "source": [
    "recall_score(y_test,y_pred_lr,average='weighted')"
   ]
  },
  {
   "cell_type": "code",
   "execution_count": 129,
   "id": "a1c3ead0",
   "metadata": {},
   "outputs": [
    {
     "data": {
      "text/plain": [
       "'              precision    recall  f1-score   support\\n\\n           0       0.96      1.00      0.98       271\\n           1       1.00      0.67      0.80        30\\n\\n    accuracy                           0.97       301\\n   macro avg       0.98      0.83      0.89       301\\nweighted avg       0.97      0.97      0.96       301\\n'"
      ]
     },
     "execution_count": 129,
     "metadata": {},
     "output_type": "execute_result"
    }
   ],
   "source": [
    "classification_report(y_test,y_pred_lr)"
   ]
  },
  {
   "cell_type": "code",
   "execution_count": 130,
   "id": "25d41a80",
   "metadata": {},
   "outputs": [],
   "source": [
    "from sklearn.metrics import precision_recall_curve"
   ]
  },
  {
   "cell_type": "code",
   "execution_count": 131,
   "id": "8cb9d799",
   "metadata": {},
   "outputs": [],
   "source": [
    "precision,recall,thresholds=precision_recall_curve(y_test,y_pred_lr,pos_label=1)"
   ]
  },
  {
   "cell_type": "code",
   "execution_count": 132,
   "id": "b9713dbe",
   "metadata": {},
   "outputs": [],
   "source": [
    "acc=lr.score(x_test,y_test)"
   ]
  },
  {
   "cell_type": "code",
   "execution_count": 133,
   "id": "d3545133",
   "metadata": {},
   "outputs": [
    {
     "data": {
      "text/plain": [
       "0.9667774086378738"
      ]
     },
     "execution_count": 133,
     "metadata": {},
     "output_type": "execute_result"
    }
   ],
   "source": [
    "acc"
   ]
  },
  {
   "cell_type": "code",
   "execution_count": 134,
   "id": "0df73c56",
   "metadata": {},
   "outputs": [],
   "source": [
    "from sklearn.metrics import auc\n",
    "p_auc=auc(recall,precision)"
   ]
  },
  {
   "cell_type": "code",
   "execution_count": 135,
   "id": "94db341f",
   "metadata": {},
   "outputs": [
    {
     "data": {
      "text/plain": [
       "<matplotlib.legend.Legend at 0x22a016ed9a0>"
      ]
     },
     "execution_count": 135,
     "metadata": {},
     "output_type": "execute_result"
    },
    {
     "data": {
      "image/png": "[encoded data removed]",
      "text/plain": [
       "<Figure size 576x432 with 1 Axes>"
      ]
     },
     "metadata": {
      "needs_background": "light"
     },
     "output_type": "display_data"
    }
   ],
   "source": [
    "plt.style.context((\"ggplot\",\"seaborn\"))\n",
    "plt.figure(figsize=(8,6))\n",
    "plt.scatter(recall,precision,c='blue')\n",
    "plt.plot(recall,precision,label=\"Accuracy:%.2f, AUC:%.2f\"%(acc,p_auc),linewidth=2,c='red')\n",
    "plt.hlines(0.5,0.0,1.0,linestyle='dashed',colors=['orange'])\n",
    "plt.xlabel(\"Recall\")\n",
    "plt.ylabel(\"Precision\")\n",
    "plt.title(\"PR Curve\")\n",
    "plt.legend(loc=\"best\")"
   ]
  },
  {
   "cell_type": "code",
   "execution_count": 136,
   "id": "4dea811e",
   "metadata": {},
   "outputs": [
    {
     "data": {
      "text/plain": [
       "0.8499446290143964"
      ]
     },
     "execution_count": 136,
     "metadata": {},
     "output_type": "execute_result"
    }
   ],
   "source": [
    "p_auc"
   ]
  },
  {
   "cell_type": "code",
   "execution_count": 137,
   "id": "95e7b446",
   "metadata": {},
   "outputs": [],
   "source": [
    "from sklearn.tree import DecisionTreeClassifier"
   ]
  },
  {
   "cell_type": "code",
   "execution_count": 138,
   "id": "dcd3b0e1",
   "metadata": {},
   "outputs": [],
   "source": [
    "dt=DecisionTreeClassifier(criterion='gini',max_depth=3,random_state=45)"
   ]
  },
  {
   "cell_type": "code",
   "execution_count": 139,
   "id": "86243d5d",
   "metadata": {},
   "outputs": [
    {
     "data": {
      "text/html": [
       "<style>#sk-container-id-6 {color: black;background-color: white;}#sk-container-id-6 pre{padding: 0;}#sk-container-id-6 div.sk-toggleable {background-color: white;}#sk-container-id-6 label.sk-toggleable__label {cursor: pointer;display: block;width: 100%;margin-bottom: 0;padding: 0.3em;box-sizing: border-box;text-align: center;}#sk-container-id-6 label.sk-toggleable__label-arrow:before {content: \"▸\";float: left;margin-right: 0.25em;color: #696969;}#sk-container-id-6 label.sk-toggleable__label-arrow:hover:before {color: black;}#sk-container-id-6 div.sk-estimator:hover label.sk-toggleable__label-arrow:before {color: black;}#sk-container-id-6 div.sk-toggleable__content {max-height: 0;max-width: 0;overflow: hidden;text-align: left;background-color: #f0f8ff;}#sk-container-id-6 div.sk-toggleable__content pre {margin: 0.2em;color: black;border-radius: 0.25em;background-color: #f0f8ff;}#sk-container-id-6 input.sk-toggleable__control:checked~div.sk-toggleable__content {max-height: 200px;max-width: 100%;overflow: auto;}#sk-container-id-6 input.sk-toggleable__control:checked~label.sk-toggleable__label-arrow:before {content: \"▾\";}#sk-container-id-6 div.sk-estimator input.sk-toggleable__control:checked~label.sk-toggleable__label {background-color: #d4ebff;}#sk-container-id-6 div.sk-label input.sk-toggleable__control:checked~label.sk-toggleable__label {background-color: #d4ebff;}#sk-container-id-6 input.sk-hidden--visually {border: 0;clip: rect(1px 1px 1px 1px);clip: rect(1px, 1px, 1px, 1px);height: 1px;margin: -1px;overflow: hidden;padding: 0;position: absolute;width: 1px;}#sk-container-id-6 div.sk-estimator {font-family: monospace;background-color: #f0f8ff;border: 1px dotted black;border-radius: 0.25em;box-sizing: border-box;margin-bottom: 0.5em;}#sk-container-id-6 div.sk-estimator:hover {background-color: #d4ebff;}#sk-container-id-6 div.sk-parallel-item::after {content: \"\";width: 100%;border-bottom: 1px solid gray;flex-grow: 1;}#sk-container-id-6 div.sk-label:hover label.sk-toggleable__label {background-color: #d4ebff;}#sk-container-id-6 div.sk-serial::before {content: \"\";position: absolute;border-left: 1px solid gray;box-sizing: border-box;top: 0;bottom: 0;left: 50%;z-index: 0;}#sk-container-id-6 div.sk-serial {display: flex;flex-direction: column;align-items: center;background-color: white;padding-right: 0.2em;padding-left: 0.2em;position: relative;}#sk-container-id-6 div.sk-item {position: relative;z-index: 1;}#sk-container-id-6 div.sk-parallel {display: flex;align-items: stretch;justify-content: center;background-color: white;position: relative;}#sk-container-id-6 div.sk-item::before, #sk-container-id-6 div.sk-parallel-item::before {content: \"\";position: absolute;border-left: 1px solid gray;box-sizing: border-box;top: 0;bottom: 0;left: 50%;z-index: -1;}#sk-container-id-6 div.sk-parallel-item {display: flex;flex-direction: column;z-index: 1;position: relative;background-color: white;}#sk-container-id-6 div.sk-parallel-item:first-child::after {align-self: flex-end;width: 50%;}#sk-container-id-6 div.sk-parallel-item:last-child::after {align-self: flex-start;width: 50%;}#sk-container-id-6 div.sk-parallel-item:only-child::after {width: 0;}#sk-container-id-6 div.sk-dashed-wrapped {border: 1px dashed gray;margin: 0 0.4em 0.5em 0.4em;box-sizing: border-box;padding-bottom: 0.4em;background-color: white;}#sk-container-id-6 div.sk-label label {font-family: monospace;font-weight: bold;display: inline-block;line-height: 1.2em;}#sk-container-id-6 div.sk-label-container {text-align: center;}#sk-container-id-6 div.sk-container {/* jupyter's `normalize.less` sets `[hidden] { display: none; }` but bootstrap.min.css set `[hidden] { display: none !important; }` so we also need the `!important` here to be able to override the default hidden behavior on the sphinx rendered scikit-learn.org. See: https://github.com/scikit-learn/scikit-learn/issues/21755 */display: inline-block !important;position: relative;}#sk-container-id-6 div.sk-text-repr-fallback {display: none;}</style><div id=\"sk-container-id-6\" class=\"sk-top-container\"><div class=\"sk-text-repr-fallback\"><pre>DecisionTreeClassifier(max_depth=3, random_state=45)</pre><b>In a Jupyter environment, please rerun this cell to show the HTML representation or trust the notebook. <br />On GitHub, the HTML representation is unable to render, please try loading this page with nbviewer.org.</b></div><div class=\"sk-container\" hidden><div class=\"sk-item\"><div class=\"sk-estimator sk-toggleable\"><input class=\"sk-toggleable__control sk-hidden--visually\" id=\"sk-estimator-id-6\" type=\"checkbox\" checked><label for=\"sk-estimator-id-6\" class=\"sk-toggleable__label sk-toggleable__label-arrow\">DecisionTreeClassifier</label><div class=\"sk-toggleable__content\"><pre>DecisionTreeClassifier(max_depth=3, random_state=45)</pre></div></div></div></div></div>"
      ],
      "text/plain": [
       "DecisionTreeClassifier(max_depth=3, random_state=45)"
      ]
     },
     "execution_count": 139,
     "metadata": {},
     "output_type": "execute_result"
    }
   ],
   "source": [
    "dt.fit(x_train,y_train)"
   ]
  },
  {
   "cell_type": "code",
   "execution_count": 140,
   "id": "345661db",
   "metadata": {},
   "outputs": [],
   "source": [
    "y_pred_dt=dt.predict(x_test)"
   ]
  },
  {
   "cell_type": "code",
   "execution_count": 141,
   "id": "a22155d5",
   "metadata": {},
   "outputs": [
    {
     "data": {
      "text/plain": [
       "array([0, 0, 0, 0, 1, 0, 0, 0, 1, 0, 1, 0, 0, 0, 0, 0, 0, 0, 0, 0, 0, 0,\n",
       "       0, 0, 0, 0, 0, 0, 0, 0, 0, 0, 0, 0, 0, 0, 0, 0, 1, 1, 0, 0, 0, 0,\n",
       "       0, 0, 0, 0, 0, 0, 0, 0, 0, 1, 0, 0, 0, 0, 0, 0, 0, 0, 0, 0, 0, 0,\n",
       "       0, 0, 0, 0, 0, 0, 0, 0, 0, 0, 0, 0, 0, 0, 0, 0, 0, 0, 0, 0, 0, 0,\n",
       "       0, 0, 0, 1, 1, 0, 0, 0, 0, 0, 0, 0, 0, 0, 0, 0, 0, 0, 1, 0, 0, 0,\n",
       "       0, 0, 0, 0, 0, 0, 0, 0, 0, 0, 0, 0, 0, 0, 0, 0, 1, 0, 0, 0, 0, 0,\n",
       "       0, 0, 0, 0, 0, 1, 0, 0, 1, 0, 0, 0, 0, 0, 0, 1, 0, 1, 0, 0, 0, 0,\n",
       "       1, 0, 0, 0, 1, 0, 0, 0, 1, 0, 1, 0, 0, 0, 0, 0, 0, 0, 0, 0, 0, 0,\n",
       "       0, 0, 0, 1, 0, 0, 0, 0, 0, 0, 0, 0, 0, 0, 0, 0, 0, 0, 0, 0, 0, 0,\n",
       "       0, 0, 0, 0, 0, 1, 0, 0, 0, 0, 0, 1, 0, 0, 0, 1, 0, 0, 0, 0, 0, 0,\n",
       "       0, 0, 0, 0, 0, 0, 0, 1, 0, 0, 1, 0, 0, 0, 1, 0, 0, 0, 0, 0, 0, 0,\n",
       "       0, 0, 0, 1, 0, 1, 0, 0, 0, 0, 0, 0, 0, 0, 0, 0, 0, 0, 0, 0, 0, 0,\n",
       "       0, 0, 1, 1, 0, 0, 0, 0, 1, 0, 0, 0, 0, 0, 0, 0, 0, 0, 0, 0, 0, 0,\n",
       "       0, 0, 0, 0, 0, 0, 0, 0, 0, 0, 0, 0, 0, 0, 0])"
      ]
     },
     "execution_count": 141,
     "metadata": {},
     "output_type": "execute_result"
    }
   ],
   "source": [
    "y_pred_dt"
   ]
  },
  {
   "cell_type": "code",
   "execution_count": 142,
   "id": "9fc0b51b",
   "metadata": {},
   "outputs": [
    {
     "data": {
      "text/plain": [
       "1.0"
      ]
     },
     "execution_count": 142,
     "metadata": {},
     "output_type": "execute_result"
    }
   ],
   "source": [
    "precision_score(y_test,y_pred_dt,average='macro')"
   ]
  },
  {
   "cell_type": "code",
   "execution_count": 143,
   "id": "85f37533",
   "metadata": {},
   "outputs": [
    {
     "data": {
      "text/plain": [
       "1.0"
      ]
     },
     "execution_count": 143,
     "metadata": {},
     "output_type": "execute_result"
    }
   ],
   "source": [
    "precision_score(y_test,y_pred_dt,average='weighted')"
   ]
  },
  {
   "cell_type": "code",
   "execution_count": 144,
   "id": "7a69596f",
   "metadata": {},
   "outputs": [
    {
     "data": {
      "text/plain": [
       "1.0"
      ]
     },
     "execution_count": 144,
     "metadata": {},
     "output_type": "execute_result"
    }
   ],
   "source": [
    "recall_score(y_test,y_pred_dt,average='macro')"
   ]
  },
  {
   "cell_type": "code",
   "execution_count": 145,
   "id": "c9ff02a9",
   "metadata": {},
   "outputs": [
    {
     "data": {
      "text/plain": [
       "1.0"
      ]
     },
     "execution_count": 145,
     "metadata": {},
     "output_type": "execute_result"
    }
   ],
   "source": [
    "recall_score(y_test,y_pred_dt,average='weighted')"
   ]
  },
  {
   "cell_type": "code",
   "execution_count": 146,
   "id": "93d4e378",
   "metadata": {},
   "outputs": [
    {
     "data": {
      "text/plain": [
       "'              precision    recall  f1-score   support\\n\\n           0       1.00      1.00      1.00       271\\n           1       1.00      1.00      1.00        30\\n\\n    accuracy                           1.00       301\\n   macro avg       1.00      1.00      1.00       301\\nweighted avg       1.00      1.00      1.00       301\\n'"
      ]
     },
     "execution_count": 146,
     "metadata": {},
     "output_type": "execute_result"
    }
   ],
   "source": [
    "classification_report(y_test,y_pred_dt)"
   ]
  },
  {
   "cell_type": "code",
   "execution_count": 147,
   "id": "ab9660f8",
   "metadata": {},
   "outputs": [],
   "source": [
    "precision1,recall1,thresholds1=precision_recall_curve(y_test,y_pred_dt,pos_label=1)"
   ]
  },
  {
   "cell_type": "code",
   "execution_count": 148,
   "id": "e1fd1ace",
   "metadata": {},
   "outputs": [],
   "source": [
    "p_auc1=auc(recall1,precision1)"
   ]
  },
  {
   "cell_type": "code",
   "execution_count": 149,
   "id": "5d1abd43",
   "metadata": {},
   "outputs": [
    {
     "data": {
      "text/plain": [
       "1.0"
      ]
     },
     "execution_count": 149,
     "metadata": {},
     "output_type": "execute_result"
    }
   ],
   "source": [
    "p_auc1"
   ]
  },
  {
   "cell_type": "code",
   "execution_count": 150,
   "id": "3170a6fe",
   "metadata": {},
   "outputs": [],
   "source": [
    "acc2=dt.score(x_test,y_test)"
   ]
  },
  {
   "cell_type": "code",
   "execution_count": 151,
   "id": "64326e71",
   "metadata": {},
   "outputs": [
    {
     "data": {
      "text/plain": [
       "<matplotlib.legend.Legend at 0x22a017480d0>"
      ]
     },
     "execution_count": 151,
     "metadata": {},
     "output_type": "execute_result"
    },
    {
     "data": {
      "image/png": "[encoded data removed]",
      "text/plain": [
       "<Figure size 576x432 with 1 Axes>"
      ]
     },
     "metadata": {
      "needs_background": "light"
     },
     "output_type": "display_data"
    }
   ],
   "source": [
    "plt.style.context((\"ggplot\",\"seaborn\"))\n",
    "plt.figure(figsize=(8,6))\n",
    "plt.scatter(recall,precision,c='blue')\n",
    "plt.plot(recall,precision,label=\"Accuracy:%.2f, AUC:%.2f\"%(acc2,p_auc1),linewidth=2,c='red')\n",
    "plt.hlines(0.5,0.0,1.0,linestyle='dashed',colors=['orange'])\n",
    "plt.xlabel(\"Recall\")\n",
    "plt.ylabel(\"Precision\")\n",
    "plt.title(\"PR Curve\")\n",
    "plt.legend(loc=\"best\")"
   ]
  },
  {
   "cell_type": "code",
   "execution_count": 152,
   "id": "cff412e7",
   "metadata": {},
   "outputs": [
    {
     "data": {
      "text/plain": [
       "[Text(0.6, 0.875, 'x[0] <= 0.5\\ngini = 0.186\\nsamples = 702\\nvalue = [629, 73]'),\n",
       " Text(0.4, 0.625, 'x[592] <= 4.438\\ngini = 0.003\\nsamples = 630\\nvalue = [629, 1]'),\n",
       " Text(0.2, 0.375, 'gini = 0.0\\nsamples = 628\\nvalue = [628, 0]'),\n",
       " Text(0.6, 0.375, 'x[562] <= -2.517\\ngini = 0.5\\nsamples = 2\\nvalue = [1, 1]'),\n",
       " Text(0.4, 0.125, 'gini = 0.0\\nsamples = 1\\nvalue = [0, 1]'),\n",
       " Text(0.8, 0.125, 'gini = 0.0\\nsamples = 1\\nvalue = [1, 0]'),\n",
       " Text(0.8, 0.625, 'gini = 0.0\\nsamples = 72\\nvalue = [0, 72]')]"
      ]
     },
     "execution_count": 152,
     "metadata": {},
     "output_type": "execute_result"
    },
    {
     "data": {
      "image/png": "[encoded data removed]",
      "text/plain": [
       "<Figure size 432x288 with 1 Axes>"
      ]
     },
     "metadata": {
      "needs_background": "light"
     },
     "output_type": "display_data"
    }
   ],
   "source": [
    "from sklearn import tree\n",
    "tree.plot_tree(dt.fit(x_train,y_train))"
   ]
  },
  {
   "cell_type": "code",
   "execution_count": 153,
   "id": "b38cd80f",
   "metadata": {},
   "outputs": [],
   "source": [
    "from sklearn.ensemble import RandomForestClassifier"
   ]
  },
  {
   "cell_type": "code",
   "execution_count": 154,
   "id": "9031ac9b",
   "metadata": {},
   "outputs": [],
   "source": [
    "rf=RandomForestClassifier(n_estimators=10)"
   ]
  },
  {
   "cell_type": "code",
   "execution_count": 155,
   "id": "e9de033b",
   "metadata": {},
   "outputs": [
    {
     "data": {
      "text/html": [
       "<style>#sk-container-id-7 {color: black;background-color: white;}#sk-container-id-7 pre{padding: 0;}#sk-container-id-7 div.sk-toggleable {background-color: white;}#sk-container-id-7 label.sk-toggleable__label {cursor: pointer;display: block;width: 100%;margin-bottom: 0;padding: 0.3em;box-sizing: border-box;text-align: center;}#sk-container-id-7 label.sk-toggleable__label-arrow:before {content: \"▸\";float: left;margin-right: 0.25em;color: #696969;}#sk-container-id-7 label.sk-toggleable__label-arrow:hover:before {color: black;}#sk-container-id-7 div.sk-estimator:hover label.sk-toggleable__label-arrow:before {color: black;}#sk-container-id-7 div.sk-toggleable__content {max-height: 0;max-width: 0;overflow: hidden;text-align: left;background-color: #f0f8ff;}#sk-container-id-7 div.sk-toggleable__content pre {margin: 0.2em;color: black;border-radius: 0.25em;background-color: #f0f8ff;}#sk-container-id-7 input.sk-toggleable__control:checked~div.sk-toggleable__content {max-height: 200px;max-width: 100%;overflow: auto;}#sk-container-id-7 input.sk-toggleable__control:checked~label.sk-toggleable__label-arrow:before {content: \"▾\";}#sk-container-id-7 div.sk-estimator input.sk-toggleable__control:checked~label.sk-toggleable__label {background-color: #d4ebff;}#sk-container-id-7 div.sk-label input.sk-toggleable__control:checked~label.sk-toggleable__label {background-color: #d4ebff;}#sk-container-id-7 input.sk-hidden--visually {border: 0;clip: rect(1px 1px 1px 1px);clip: rect(1px, 1px, 1px, 1px);height: 1px;margin: -1px;overflow: hidden;padding: 0;position: absolute;width: 1px;}#sk-container-id-7 div.sk-estimator {font-family: monospace;background-color: #f0f8ff;border: 1px dotted black;border-radius: 0.25em;box-sizing: border-box;margin-bottom: 0.5em;}#sk-container-id-7 div.sk-estimator:hover {background-color: #d4ebff;}#sk-container-id-7 div.sk-parallel-item::after {content: \"\";width: 100%;border-bottom: 1px solid gray;flex-grow: 1;}#sk-container-id-7 div.sk-label:hover label.sk-toggleable__label {background-color: #d4ebff;}#sk-container-id-7 div.sk-serial::before {content: \"\";position: absolute;border-left: 1px solid gray;box-sizing: border-box;top: 0;bottom: 0;left: 50%;z-index: 0;}#sk-container-id-7 div.sk-serial {display: flex;flex-direction: column;align-items: center;background-color: white;padding-right: 0.2em;padding-left: 0.2em;position: relative;}#sk-container-id-7 div.sk-item {position: relative;z-index: 1;}#sk-container-id-7 div.sk-parallel {display: flex;align-items: stretch;justify-content: center;background-color: white;position: relative;}#sk-container-id-7 div.sk-item::before, #sk-container-id-7 div.sk-parallel-item::before {content: \"\";position: absolute;border-left: 1px solid gray;box-sizing: border-box;top: 0;bottom: 0;left: 50%;z-index: -1;}#sk-container-id-7 div.sk-parallel-item {display: flex;flex-direction: column;z-index: 1;position: relative;background-color: white;}#sk-container-id-7 div.sk-parallel-item:first-child::after {align-self: flex-end;width: 50%;}#sk-container-id-7 div.sk-parallel-item:last-child::after {align-self: flex-start;width: 50%;}#sk-container-id-7 div.sk-parallel-item:only-child::after {width: 0;}#sk-container-id-7 div.sk-dashed-wrapped {border: 1px dashed gray;margin: 0 0.4em 0.5em 0.4em;box-sizing: border-box;padding-bottom: 0.4em;background-color: white;}#sk-container-id-7 div.sk-label label {font-family: monospace;font-weight: bold;display: inline-block;line-height: 1.2em;}#sk-container-id-7 div.sk-label-container {text-align: center;}#sk-container-id-7 div.sk-container {/* jupyter's `normalize.less` sets `[hidden] { display: none; }` but bootstrap.min.css set `[hidden] { display: none !important; }` so we also need the `!important` here to be able to override the default hidden behavior on the sphinx rendered scikit-learn.org. See: https://github.com/scikit-learn/scikit-learn/issues/21755 */display: inline-block !important;position: relative;}#sk-container-id-7 div.sk-text-repr-fallback {display: none;}</style><div id=\"sk-container-id-7\" class=\"sk-top-container\"><div class=\"sk-text-repr-fallback\"><pre>RandomForestClassifier(n_estimators=10)</pre><b>In a Jupyter environment, please rerun this cell to show the HTML representation or trust the notebook. <br />On GitHub, the HTML representation is unable to render, please try loading this page with nbviewer.org.</b></div><div class=\"sk-container\" hidden><div class=\"sk-item\"><div class=\"sk-estimator sk-toggleable\"><input class=\"sk-toggleable__control sk-hidden--visually\" id=\"sk-estimator-id-7\" type=\"checkbox\" checked><label for=\"sk-estimator-id-7\" class=\"sk-toggleable__label sk-toggleable__label-arrow\">RandomForestClassifier</label><div class=\"sk-toggleable__content\"><pre>RandomForestClassifier(n_estimators=10)</pre></div></div></div></div></div>"
      ],
      "text/plain": [
       "RandomForestClassifier(n_estimators=10)"
      ]
     },
     "execution_count": 155,
     "metadata": {},
     "output_type": "execute_result"
    }
   ],
   "source": [
    "rf.fit(x_train,y_train)"
   ]
  },
  {
   "cell_type": "code",
   "execution_count": 156,
   "id": "34b47baa",
   "metadata": {},
   "outputs": [],
   "source": [
    "y_pred_rf=rf.predict(x_test)"
   ]
  },
  {
   "cell_type": "code",
   "execution_count": 157,
   "id": "36de5b02",
   "metadata": {},
   "outputs": [
    {
     "data": {
      "text/plain": [
       "array([0, 0, 0, 0, 1, 0, 0, 0, 1, 0, 1, 0, 0, 0, 0, 0, 0, 0, 0, 0, 0, 0,\n",
       "       0, 0, 0, 0, 0, 0, 0, 0, 0, 0, 0, 0, 0, 0, 0, 0, 1, 1, 0, 0, 0, 0,\n",
       "       0, 0, 0, 0, 0, 0, 0, 0, 0, 1, 0, 0, 0, 0, 0, 0, 0, 0, 0, 0, 0, 0,\n",
       "       0, 0, 0, 0, 0, 0, 0, 0, 0, 0, 0, 0, 0, 0, 0, 0, 0, 0, 0, 0, 0, 0,\n",
       "       0, 0, 0, 1, 0, 0, 0, 0, 0, 0, 0, 0, 0, 0, 0, 0, 0, 0, 1, 0, 0, 0,\n",
       "       0, 0, 0, 0, 0, 0, 0, 0, 0, 0, 0, 0, 0, 0, 0, 0, 1, 0, 0, 0, 0, 0,\n",
       "       0, 0, 0, 0, 0, 1, 0, 0, 0, 0, 0, 0, 0, 0, 0, 1, 0, 1, 0, 0, 0, 0,\n",
       "       1, 0, 0, 0, 1, 0, 0, 0, 1, 0, 1, 0, 0, 0, 0, 0, 0, 0, 0, 0, 0, 0,\n",
       "       0, 0, 0, 0, 0, 0, 0, 0, 0, 0, 0, 0, 0, 0, 0, 0, 0, 0, 0, 0, 0, 0,\n",
       "       0, 0, 0, 0, 0, 1, 0, 0, 0, 0, 0, 1, 0, 0, 0, 1, 0, 0, 0, 0, 0, 0,\n",
       "       0, 0, 0, 0, 0, 0, 0, 1, 0, 0, 1, 0, 0, 0, 0, 0, 0, 0, 0, 0, 0, 0,\n",
       "       0, 0, 0, 1, 0, 1, 0, 0, 0, 0, 0, 0, 0, 0, 0, 0, 0, 0, 0, 0, 0, 0,\n",
       "       0, 0, 1, 1, 0, 0, 0, 0, 1, 0, 0, 0, 0, 0, 0, 0, 0, 0, 0, 0, 0, 0,\n",
       "       0, 0, 0, 0, 0, 0, 0, 0, 0, 0, 0, 0, 0, 0, 0])"
      ]
     },
     "execution_count": 157,
     "metadata": {},
     "output_type": "execute_result"
    }
   ],
   "source": [
    "y_pred_rf"
   ]
  },
  {
   "cell_type": "code",
   "execution_count": 158,
   "id": "d461d802",
   "metadata": {},
   "outputs": [
    {
     "data": {
      "text/plain": [
       "0.9927272727272727"
      ]
     },
     "execution_count": 158,
     "metadata": {},
     "output_type": "execute_result"
    }
   ],
   "source": [
    "precision_score(y_test,y_pred_rf,average='macro')"
   ]
  },
  {
   "cell_type": "code",
   "execution_count": 159,
   "id": "528ef06a",
   "metadata": {},
   "outputs": [
    {
     "data": {
      "text/plain": [
       "0.9869042585321656"
      ]
     },
     "execution_count": 159,
     "metadata": {},
     "output_type": "execute_result"
    }
   ],
   "source": [
    "precision_score(y_test,y_pred_rf,average='weighted')"
   ]
  },
  {
   "cell_type": "code",
   "execution_count": 160,
   "id": "78be54e3",
   "metadata": {},
   "outputs": [
    {
     "data": {
      "text/plain": [
       "0.9333333333333333"
      ]
     },
     "execution_count": 160,
     "metadata": {},
     "output_type": "execute_result"
    }
   ],
   "source": [
    "recall_score(y_test,y_pred_rf,average='macro')"
   ]
  },
  {
   "cell_type": "code",
   "execution_count": 161,
   "id": "c29ed671",
   "metadata": {},
   "outputs": [
    {
     "data": {
      "text/plain": [
       "0.9867109634551495"
      ]
     },
     "execution_count": 161,
     "metadata": {},
     "output_type": "execute_result"
    }
   ],
   "source": [
    "recall_score(y_test,y_pred_rf,average='weighted')"
   ]
  },
  {
   "cell_type": "code",
   "execution_count": 162,
   "id": "ad6a757c",
   "metadata": {},
   "outputs": [
    {
     "data": {
      "text/plain": [
       "'              precision    recall  f1-score   support\\n\\n           0       0.99      1.00      0.99       271\\n           1       1.00      0.87      0.93        30\\n\\n    accuracy                           0.99       301\\n   macro avg       0.99      0.93      0.96       301\\nweighted avg       0.99      0.99      0.99       301\\n'"
      ]
     },
     "execution_count": 162,
     "metadata": {},
     "output_type": "execute_result"
    }
   ],
   "source": [
    "classification_report(y_test,y_pred_rf)"
   ]
  },
  {
   "cell_type": "code",
   "execution_count": 163,
   "id": "aeb50e88",
   "metadata": {},
   "outputs": [],
   "source": [
    "precision2,recall2,thresholds2=precision_recall_curve(y_test,y_pred_rf,pos_label=1)"
   ]
  },
  {
   "cell_type": "code",
   "execution_count": 164,
   "id": "c0b41192",
   "metadata": {},
   "outputs": [],
   "source": [
    "p_auc2=auc(recall2,precision2)"
   ]
  },
  {
   "cell_type": "code",
   "execution_count": 165,
   "id": "ac7a6a44",
   "metadata": {},
   "outputs": [
    {
     "data": {
      "text/plain": [
       "0.9399778516057586"
      ]
     },
     "execution_count": 165,
     "metadata": {},
     "output_type": "execute_result"
    }
   ],
   "source": [
    "p_auc2"
   ]
  },
  {
   "cell_type": "code",
   "execution_count": 166,
   "id": "6bc215b5",
   "metadata": {},
   "outputs": [],
   "source": [
    "acc3=rf.score(x_test,y_test)"
   ]
  },
  {
   "cell_type": "code",
   "execution_count": 167,
   "id": "ff6caebf",
   "metadata": {},
   "outputs": [
    {
     "data": {
      "text/plain": [
       "<matplotlib.legend.Legend at 0x22a0541b7f0>"
      ]
     },
     "execution_count": 167,
     "metadata": {},
     "output_type": "execute_result"
    },
    {
     "data": {
      "image/png": "[encoded data removed]",
      "text/plain": [
       "<Figure size 576x432 with 1 Axes>"
      ]
     },
     "metadata": {
      "needs_background": "light"
     },
     "output_type": "display_data"
    }
   ],
   "source": [
    "plt.style.context((\"ggplot\",\"seaborn\"))\n",
    "plt.figure(figsize=(8,6))\n",
    "plt.scatter(recall,precision,c='blue')\n",
    "plt.plot(recall,precision,label=\"Accuracy:%.2f, AUC:%.2f\"%(acc3,p_auc2),linewidth=2,c='red')\n",
    "plt.hlines(0.5,0.0,1.0,linestyle='dashed',colors=['orange'])\n",
    "plt.xlabel(\"Recall\")\n",
    "plt.ylabel(\"Precision\")\n",
    "plt.title(\"PR Curve\")\n",
    "plt.legend(loc=\"best\")"
   ]
  },
  {
   "cell_type": "code",
   "execution_count": 168,
   "id": "51d405ad",
   "metadata": {},
   "outputs": [],
   "source": [
    "import xgboost as xgb"
   ]
  },
  {
   "cell_type": "code",
   "execution_count": 169,
   "id": "09b0438e",
   "metadata": {},
   "outputs": [],
   "source": [
    "smallest_class_count = y_train.sum()\n",
    "largest_class_count = len(y_train) - smallest_class_count\n",
    "spw = largest_class_count / smallest_class_count"
   ]
  },
  {
   "cell_type": "code",
   "execution_count": 170,
   "id": "2370280d",
   "metadata": {},
   "outputs": [],
   "source": [
    "xg=xgb.XGBClassifier(scale_pos_weight=spw)"
   ]
  },
  {
   "cell_type": "code",
   "execution_count": 171,
   "id": "08f86e0d",
   "metadata": {},
   "outputs": [
    {
     "name": "stderr",
     "output_type": "stream",
     "text": [
      "C:\\Users\\rabhi\\anaconda3\\lib\\site-packages\\xgboost\\sklearn.py:1224: UserWarning: The use of label encoder in XGBClassifier is deprecated and will be removed in a future release. To remove this warning, do the following: 1) Pass option use_label_encoder=False when constructing XGBClassifier object; and 2) Encode your labels (y) as integers starting with 0, i.e. 0, 1, 2, ..., [num_class - 1].\n",
      "  warnings.warn(label_encoder_deprecation_msg, UserWarning)\n"
     ]
    },
    {
     "name": "stdout",
     "output_type": "stream",
     "text": [
      "[12:46:22] WARNING: ..\\src\\learner.cc:1115: Starting in XGBoost 1.3.0, the default evaluation metric used with the objective 'binary:logistic' was changed from 'error' to 'logloss'. Explicitly set eval_metric if you'd like to restore the old behavior.\n"
     ]
    },
    {
     "data": {
      "text/html": [
       "<style>#sk-container-id-8 {color: black;background-color: white;}#sk-container-id-8 pre{padding: 0;}#sk-container-id-8 div.sk-toggleable {background-color: white;}#sk-container-id-8 label.sk-toggleable__label {cursor: pointer;display: block;width: 100%;margin-bottom: 0;padding: 0.3em;box-sizing: border-box;text-align: center;}#sk-container-id-8 label.sk-toggleable__label-arrow:before {content: \"▸\";float: left;margin-right: 0.25em;color: #696969;}#sk-container-id-8 label.sk-toggleable__label-arrow:hover:before {color: black;}#sk-container-id-8 div.sk-estimator:hover label.sk-toggleable__label-arrow:before {color: black;}#sk-container-id-8 div.sk-toggleable__content {max-height: 0;max-width: 0;overflow: hidden;text-align: left;background-color: #f0f8ff;}#sk-container-id-8 div.sk-toggleable__content pre {margin: 0.2em;color: black;border-radius: 0.25em;background-color: #f0f8ff;}#sk-container-id-8 input.sk-toggleable__control:checked~div.sk-toggleable__content {max-height: 200px;max-width: 100%;overflow: auto;}#sk-container-id-8 input.sk-toggleable__control:checked~label.sk-toggleable__label-arrow:before {content: \"▾\";}#sk-container-id-8 div.sk-estimator input.sk-toggleable__control:checked~label.sk-toggleable__label {background-color: #d4ebff;}#sk-container-id-8 div.sk-label input.sk-toggleable__control:checked~label.sk-toggleable__label {background-color: #d4ebff;}#sk-container-id-8 input.sk-hidden--visually {border: 0;clip: rect(1px 1px 1px 1px);clip: rect(1px, 1px, 1px, 1px);height: 1px;margin: -1px;overflow: hidden;padding: 0;position: absolute;width: 1px;}#sk-container-id-8 div.sk-estimator {font-family: monospace;background-color: #f0f8ff;border: 1px dotted black;border-radius: 0.25em;box-sizing: border-box;margin-bottom: 0.5em;}#sk-container-id-8 div.sk-estimator:hover {background-color: #d4ebff;}#sk-container-id-8 div.sk-parallel-item::after {content: \"\";width: 100%;border-bottom: 1px solid gray;flex-grow: 1;}#sk-container-id-8 div.sk-label:hover label.sk-toggleable__label {background-color: #d4ebff;}#sk-container-id-8 div.sk-serial::before {content: \"\";position: absolute;border-left: 1px solid gray;box-sizing: border-box;top: 0;bottom: 0;left: 50%;z-index: 0;}#sk-container-id-8 div.sk-serial {display: flex;flex-direction: column;align-items: center;background-color: white;padding-right: 0.2em;padding-left: 0.2em;position: relative;}#sk-container-id-8 div.sk-item {position: relative;z-index: 1;}#sk-container-id-8 div.sk-parallel {display: flex;align-items: stretch;justify-content: center;background-color: white;position: relative;}#sk-container-id-8 div.sk-item::before, #sk-container-id-8 div.sk-parallel-item::before {content: \"\";position: absolute;border-left: 1px solid gray;box-sizing: border-box;top: 0;bottom: 0;left: 50%;z-index: -1;}#sk-container-id-8 div.sk-parallel-item {display: flex;flex-direction: column;z-index: 1;position: relative;background-color: white;}#sk-container-id-8 div.sk-parallel-item:first-child::after {align-self: flex-end;width: 50%;}#sk-container-id-8 div.sk-parallel-item:last-child::after {align-self: flex-start;width: 50%;}#sk-container-id-8 div.sk-parallel-item:only-child::after {width: 0;}#sk-container-id-8 div.sk-dashed-wrapped {border: 1px dashed gray;margin: 0 0.4em 0.5em 0.4em;box-sizing: border-box;padding-bottom: 0.4em;background-color: white;}#sk-container-id-8 div.sk-label label {font-family: monospace;font-weight: bold;display: inline-block;line-height: 1.2em;}#sk-container-id-8 div.sk-label-container {text-align: center;}#sk-container-id-8 div.sk-container {/* jupyter's `normalize.less` sets `[hidden] { display: none; }` but bootstrap.min.css set `[hidden] { display: none !important; }` so we also need the `!important` here to be able to override the default hidden behavior on the sphinx rendered scikit-learn.org. See: https://github.com/scikit-learn/scikit-learn/issues/21755 */display: inline-block !important;position: relative;}#sk-container-id-8 div.sk-text-repr-fallback {display: none;}</style><div id=\"sk-container-id-8\" class=\"sk-top-container\"><div class=\"sk-text-repr-fallback\"><pre>XGBClassifier(base_score=0.5, booster=&#x27;gbtree&#x27;, colsample_bylevel=1,\n",
       "              colsample_bynode=1, colsample_bytree=1, enable_categorical=False,\n",
       "              gamma=0, gpu_id=-1, importance_type=None,\n",
       "              interaction_constraints=&#x27;&#x27;, learning_rate=0.300000012,\n",
       "              max_delta_step=0, max_depth=6, min_child_weight=1, missing=nan,\n",
       "              monotone_constraints=&#x27;()&#x27;, n_estimators=100, n_jobs=8,\n",
       "              num_parallel_tree=1, predictor=&#x27;auto&#x27;, random_state=0,\n",
       "              reg_alpha=0, reg_lambda=1, scale_pos_weight=8.616438356164384,\n",
       "              subsample=1, tree_method=&#x27;exact&#x27;, validate_parameters=1,\n",
       "              verbosity=None)</pre><b>In a Jupyter environment, please rerun this cell to show the HTML representation or trust the notebook. <br />On GitHub, the HTML representation is unable to render, please try loading this page with nbviewer.org.</b></div><div class=\"sk-container\" hidden><div class=\"sk-item\"><div class=\"sk-estimator sk-toggleable\"><input class=\"sk-toggleable__control sk-hidden--visually\" id=\"sk-estimator-id-8\" type=\"checkbox\" checked><label for=\"sk-estimator-id-8\" class=\"sk-toggleable__label sk-toggleable__label-arrow\">XGBClassifier</label><div class=\"sk-toggleable__content\"><pre>XGBClassifier(base_score=0.5, booster=&#x27;gbtree&#x27;, colsample_bylevel=1,\n",
       "              colsample_bynode=1, colsample_bytree=1, enable_categorical=False,\n",
       "              gamma=0, gpu_id=-1, importance_type=None,\n",
       "              interaction_constraints=&#x27;&#x27;, learning_rate=0.300000012,\n",
       "              max_delta_step=0, max_depth=6, min_child_weight=1, missing=nan,\n",
       "              monotone_constraints=&#x27;()&#x27;, n_estimators=100, n_jobs=8,\n",
       "              num_parallel_tree=1, predictor=&#x27;auto&#x27;, random_state=0,\n",
       "              reg_alpha=0, reg_lambda=1, scale_pos_weight=8.616438356164384,\n",
       "              subsample=1, tree_method=&#x27;exact&#x27;, validate_parameters=1,\n",
       "              verbosity=None)</pre></div></div></div></div></div>"
      ],
      "text/plain": [
       "XGBClassifier(base_score=0.5, booster='gbtree', colsample_bylevel=1,\n",
       "              colsample_bynode=1, colsample_bytree=1, enable_categorical=False,\n",
       "              gamma=0, gpu_id=-1, importance_type=None,\n",
       "              interaction_constraints='', learning_rate=0.300000012,\n",
       "              max_delta_step=0, max_depth=6, min_child_weight=1, missing=nan,\n",
       "              monotone_constraints='()', n_estimators=100, n_jobs=8,\n",
       "              num_parallel_tree=1, predictor='auto', random_state=0,\n",
       "              reg_alpha=0, reg_lambda=1, scale_pos_weight=8.616438356164384,\n",
       "              subsample=1, tree_method='exact', validate_parameters=1,\n",
       "              verbosity=None)"
      ]
     },
     "execution_count": 171,
     "metadata": {},
     "output_type": "execute_result"
    }
   ],
   "source": [
    "xg.fit(x_train,y_train)"
   ]
  },
  {
   "cell_type": "code",
   "execution_count": 172,
   "id": "4376a378",
   "metadata": {},
   "outputs": [],
   "source": [
    "y_pred_xg=xg.predict(x_test)"
   ]
  },
  {
   "cell_type": "code",
   "execution_count": 173,
   "id": "a49202f1",
   "metadata": {},
   "outputs": [
    {
     "data": {
      "text/plain": [
       "array([0, 0, 0, 0, 1, 0, 0, 0, 1, 0, 1, 0, 0, 0, 0, 0, 0, 0, 0, 0, 0, 0,\n",
       "       0, 0, 0, 0, 0, 0, 0, 0, 0, 0, 0, 0, 0, 0, 0, 0, 1, 1, 0, 0, 0, 0,\n",
       "       0, 0, 0, 0, 0, 0, 0, 0, 0, 1, 0, 0, 0, 0, 0, 0, 0, 0, 0, 0, 0, 0,\n",
       "       0, 0, 0, 0, 0, 0, 0, 0, 0, 0, 0, 0, 0, 0, 0, 0, 0, 0, 0, 0, 0, 0,\n",
       "       0, 0, 0, 1, 1, 0, 0, 0, 0, 0, 0, 0, 0, 0, 0, 0, 0, 0, 1, 0, 0, 0,\n",
       "       0, 0, 0, 0, 0, 0, 0, 0, 0, 0, 0, 0, 0, 0, 0, 0, 1, 0, 0, 0, 0, 0,\n",
       "       0, 0, 0, 0, 0, 1, 0, 0, 1, 0, 0, 0, 0, 0, 0, 1, 0, 1, 0, 0, 0, 0,\n",
       "       1, 0, 0, 0, 1, 0, 0, 0, 1, 0, 1, 0, 0, 0, 0, 0, 0, 0, 0, 0, 0, 0,\n",
       "       0, 0, 0, 1, 0, 0, 0, 0, 0, 0, 0, 0, 0, 0, 0, 0, 0, 0, 0, 0, 0, 0,\n",
       "       0, 0, 0, 0, 0, 1, 0, 0, 0, 0, 0, 1, 0, 0, 0, 1, 0, 0, 0, 0, 0, 0,\n",
       "       0, 0, 0, 0, 0, 0, 0, 1, 0, 0, 1, 0, 0, 0, 1, 0, 0, 0, 0, 0, 0, 0,\n",
       "       0, 0, 0, 1, 0, 1, 0, 0, 0, 0, 0, 0, 0, 0, 0, 0, 0, 0, 0, 0, 0, 0,\n",
       "       0, 0, 1, 1, 0, 0, 0, 0, 1, 0, 0, 0, 0, 0, 0, 0, 0, 0, 0, 0, 0, 0,\n",
       "       0, 0, 0, 0, 0, 0, 0, 0, 0, 0, 0, 0, 0, 0, 0])"
      ]
     },
     "execution_count": 173,
     "metadata": {},
     "output_type": "execute_result"
    }
   ],
   "source": [
    "y_pred_xg"
   ]
  },
  {
   "cell_type": "code",
   "execution_count": 174,
   "id": "fde902fc",
   "metadata": {},
   "outputs": [
    {
     "data": {
      "text/plain": [
       "1.0"
      ]
     },
     "execution_count": 174,
     "metadata": {},
     "output_type": "execute_result"
    }
   ],
   "source": [
    "precision_score(y_test,y_pred_xg,average='macro')"
   ]
  },
  {
   "cell_type": "code",
   "execution_count": 175,
   "id": "77763b99",
   "metadata": {},
   "outputs": [
    {
     "data": {
      "text/plain": [
       "1.0"
      ]
     },
     "execution_count": 175,
     "metadata": {},
     "output_type": "execute_result"
    }
   ],
   "source": [
    "precision_score(y_test,y_pred_xg,average='weighted')"
   ]
  },
  {
   "cell_type": "code",
   "execution_count": 176,
   "id": "bc312723",
   "metadata": {},
   "outputs": [
    {
     "data": {
      "text/plain": [
       "1.0"
      ]
     },
     "execution_count": 176,
     "metadata": {},
     "output_type": "execute_result"
    }
   ],
   "source": [
    "recall_score(y_test,y_pred_xg,average='macro')"
   ]
  },
  {
   "cell_type": "code",
   "execution_count": 177,
   "id": "8e3b9922",
   "metadata": {},
   "outputs": [
    {
     "data": {
      "text/plain": [
       "1.0"
      ]
     },
     "execution_count": 177,
     "metadata": {},
     "output_type": "execute_result"
    }
   ],
   "source": [
    "recall_score(y_test,y_pred_xg,average='weighted')"
   ]
  },
  {
   "cell_type": "code",
   "execution_count": 178,
   "id": "dca96ad9",
   "metadata": {},
   "outputs": [],
   "source": [
    "precision3,recall3,thresholds3=precision_recall_curve(y_test,y_pred_rf,pos_label=1)"
   ]
  },
  {
   "cell_type": "code",
   "execution_count": 179,
   "id": "2b89bae9",
   "metadata": {},
   "outputs": [],
   "source": [
    "p_auc3=auc(recall3,precision3)"
   ]
  },
  {
   "cell_type": "code",
   "execution_count": 180,
   "id": "a08c94f6",
   "metadata": {},
   "outputs": [
    {
     "data": {
      "text/plain": [
       "0.9399778516057586"
      ]
     },
     "execution_count": 180,
     "metadata": {},
     "output_type": "execute_result"
    }
   ],
   "source": [
    "p_auc3"
   ]
  },
  {
   "cell_type": "code",
   "execution_count": 181,
   "id": "d69a7018",
   "metadata": {},
   "outputs": [],
   "source": [
    "acc4=xg.score(x_test,y_test)"
   ]
  },
  {
   "cell_type": "code",
   "execution_count": 182,
   "id": "0ca8d3db",
   "metadata": {},
   "outputs": [
    {
     "data": {
      "text/plain": [
       "<matplotlib.legend.Legend at 0x22a05485be0>"
      ]
     },
     "execution_count": 182,
     "metadata": {},
     "output_type": "execute_result"
    },
    {
     "data": {
      "image/png": "[encoded data removed]",
      "text/plain": [
       "<Figure size 576x432 with 1 Axes>"
      ]
     },
     "metadata": {
      "needs_background": "light"
     },
     "output_type": "display_data"
    }
   ],
   "source": [
    "plt.style.context((\"ggplot\",\"seaborn\"))\n",
    "plt.figure(figsize=(8,6))\n",
    "plt.scatter(recall,precision,c='blue')\n",
    "plt.plot(recall,precision,label=\"Accuracy:%.2f, AUC:%.2f\"%(acc4,p_auc3),linewidth=2,c='red')\n",
    "plt.hlines(0.5,0.0,1.0,linestyle='dashed',colors=['orange'])\n",
    "plt.xlabel(\"Recall\")\n",
    "plt.ylabel(\"Precision\")\n",
    "plt.title(\"PR Curve\")\n",
    "plt.legend(loc=\"best\")"
   ]
  },
  {
   "cell_type": "code",
   "execution_count": 183,
   "id": "5c29a8df",
   "metadata": {},
   "outputs": [],
   "source": [
    "from sklearn import model_selection\n",
    "class Benchmark:\n",
    "    def plot_cv_results(self):\n",
    "        plt.figure(figsize=(15,5))\n",
    "        x = np.arange(len(self.results))\n",
    "        plt.bar(x, list(self.results.values()), align='center', color ='g')\n",
    "        plt.xticks(x, list(self.results.keys()))\n",
    "        plt.ylim([0, 1])\n",
    "        plt.ylabel('Cross-Validation Score')\n",
    "        plt.xlabel('Models')\n",
    "        plt.title('Model Comparison')\n",
    "        for index, value in enumerate(self.results.values()):\n",
    "            plt.text(index, value, str(round(value,2)))\n",
    "        plt.show()\n",
    "\n",
    "\n",
    "    def __init__(self, models):\n",
    "        self.models = models\n",
    "\n",
    "    def test_models(self, X=x, y=y, cv=5):\n",
    "        self.results = {}\n",
    "        for name, model in self.models.items():\n",
    "            scores = model_selection.cross_val_score(model, X, y, cv=cv)\n",
    "            self.results[name] = scores.mean()\n",
    "        self.best_model = max(self.results, key=self.results.get)\n",
    "        return f\"The best model is: {self.best_model} with a score of {self.results[self.best_model]:.3f}\"\n",
    "  "
   ]
  },
  {
   "cell_type": "code",
   "execution_count": 184,
   "id": "0d8a99c2",
   "metadata": {},
   "outputs": [
    {
     "name": "stderr",
     "output_type": "stream",
     "text": [
      "C:\\Users\\rabhi\\anaconda3\\lib\\site-packages\\sklearn\\linear_model\\_logistic.py:458: ConvergenceWarning: lbfgs failed to converge (status=1):\n",
      "STOP: TOTAL NO. of ITERATIONS REACHED LIMIT.\n",
      "\n",
      "Increase the number of iterations (max_iter) or scale the data as shown in:\n",
      "    https://scikit-learn.org/stable/modules/preprocessing.html\n",
      "Please also refer to the documentation for alternative solver options:\n",
      "    https://scikit-learn.org/stable/modules/linear_model.html#logistic-regression\n",
      "  n_iter_i = _check_optimize_result(\n",
      "C:\\Users\\rabhi\\anaconda3\\lib\\site-packages\\sklearn\\linear_model\\_logistic.py:458: ConvergenceWarning: lbfgs failed to converge (status=1):\n",
      "STOP: TOTAL NO. of ITERATIONS REACHED LIMIT.\n",
      "\n",
      "Increase the number of iterations (max_iter) or scale the data as shown in:\n",
      "    https://scikit-learn.org/stable/modules/preprocessing.html\n",
      "Please also refer to the documentation for alternative solver options:\n",
      "    https://scikit-learn.org/stable/modules/linear_model.html#logistic-regression\n",
      "  n_iter_i = _check_optimize_result(\n",
      "C:\\Users\\rabhi\\anaconda3\\lib\\site-packages\\sklearn\\linear_model\\_logistic.py:458: ConvergenceWarning: lbfgs failed to converge (status=1):\n",
      "STOP: TOTAL NO. of ITERATIONS REACHED LIMIT.\n",
      "\n",
      "Increase the number of iterations (max_iter) or scale the data as shown in:\n",
      "    https://scikit-learn.org/stable/modules/preprocessing.html\n",
      "Please also refer to the documentation for alternative solver options:\n",
      "    https://scikit-learn.org/stable/modules/linear_model.html#logistic-regression\n",
      "  n_iter_i = _check_optimize_result(\n",
      "C:\\Users\\rabhi\\anaconda3\\lib\\site-packages\\sklearn\\linear_model\\_logistic.py:458: ConvergenceWarning: lbfgs failed to converge (status=1):\n",
      "STOP: TOTAL NO. of ITERATIONS REACHED LIMIT.\n",
      "\n",
      "Increase the number of iterations (max_iter) or scale the data as shown in:\n",
      "    https://scikit-learn.org/stable/modules/preprocessing.html\n",
      "Please also refer to the documentation for alternative solver options:\n",
      "    https://scikit-learn.org/stable/modules/linear_model.html#logistic-regression\n",
      "  n_iter_i = _check_optimize_result(\n",
      "C:\\Users\\rabhi\\anaconda3\\lib\\site-packages\\sklearn\\linear_model\\_logistic.py:458: ConvergenceWarning: lbfgs failed to converge (status=1):\n",
      "STOP: TOTAL NO. of ITERATIONS REACHED LIMIT.\n",
      "\n",
      "Increase the number of iterations (max_iter) or scale the data as shown in:\n",
      "    https://scikit-learn.org/stable/modules/preprocessing.html\n",
      "Please also refer to the documentation for alternative solver options:\n",
      "    https://scikit-learn.org/stable/modules/linear_model.html#logistic-regression\n",
      "  n_iter_i = _check_optimize_result(\n",
      "C:\\Users\\rabhi\\anaconda3\\lib\\site-packages\\xgboost\\sklearn.py:1224: UserWarning: The use of label encoder in XGBClassifier is deprecated and will be removed in a future release. To remove this warning, do the following: 1) Pass option use_label_encoder=False when constructing XGBClassifier object; and 2) Encode your labels (y) as integers starting with 0, i.e. 0, 1, 2, ..., [num_class - 1].\n",
      "  warnings.warn(label_encoder_deprecation_msg, UserWarning)\n"
     ]
    },
    {
     "name": "stdout",
     "output_type": "stream",
     "text": [
      "[12:46:25] WARNING: ..\\src\\learner.cc:1115: Starting in XGBoost 1.3.0, the default evaluation metric used with the objective 'binary:logistic' was changed from 'error' to 'logloss'. Explicitly set eval_metric if you'd like to restore the old behavior.\n"
     ]
    },
    {
     "name": "stderr",
     "output_type": "stream",
     "text": [
      "C:\\Users\\rabhi\\anaconda3\\lib\\site-packages\\xgboost\\sklearn.py:1224: UserWarning: The use of label encoder in XGBClassifier is deprecated and will be removed in a future release. To remove this warning, do the following: 1) Pass option use_label_encoder=False when constructing XGBClassifier object; and 2) Encode your labels (y) as integers starting with 0, i.e. 0, 1, 2, ..., [num_class - 1].\n",
      "  warnings.warn(label_encoder_deprecation_msg, UserWarning)\n"
     ]
    },
    {
     "name": "stdout",
     "output_type": "stream",
     "text": [
      "[12:46:26] WARNING: ..\\src\\learner.cc:1115: Starting in XGBoost 1.3.0, the default evaluation metric used with the objective 'binary:logistic' was changed from 'error' to 'logloss'. Explicitly set eval_metric if you'd like to restore the old behavior.\n"
     ]
    },
    {
     "name": "stderr",
     "output_type": "stream",
     "text": [
      "C:\\Users\\rabhi\\anaconda3\\lib\\site-packages\\xgboost\\sklearn.py:1224: UserWarning: The use of label encoder in XGBClassifier is deprecated and will be removed in a future release. To remove this warning, do the following: 1) Pass option use_label_encoder=False when constructing XGBClassifier object; and 2) Encode your labels (y) as integers starting with 0, i.e. 0, 1, 2, ..., [num_class - 1].\n",
      "  warnings.warn(label_encoder_deprecation_msg, UserWarning)\n"
     ]
    },
    {
     "name": "stdout",
     "output_type": "stream",
     "text": [
      "[12:46:26] WARNING: ..\\src\\learner.cc:1115: Starting in XGBoost 1.3.0, the default evaluation metric used with the objective 'binary:logistic' was changed from 'error' to 'logloss'. Explicitly set eval_metric if you'd like to restore the old behavior.\n"
     ]
    },
    {
     "name": "stderr",
     "output_type": "stream",
     "text": [
      "C:\\Users\\rabhi\\anaconda3\\lib\\site-packages\\xgboost\\sklearn.py:1224: UserWarning: The use of label encoder in XGBClassifier is deprecated and will be removed in a future release. To remove this warning, do the following: 1) Pass option use_label_encoder=False when constructing XGBClassifier object; and 2) Encode your labels (y) as integers starting with 0, i.e. 0, 1, 2, ..., [num_class - 1].\n",
      "  warnings.warn(label_encoder_deprecation_msg, UserWarning)\n"
     ]
    },
    {
     "name": "stdout",
     "output_type": "stream",
     "text": [
      "[12:46:26] WARNING: ..\\src\\learner.cc:1115: Starting in XGBoost 1.3.0, the default evaluation metric used with the objective 'binary:logistic' was changed from 'error' to 'logloss'. Explicitly set eval_metric if you'd like to restore the old behavior.\n"
     ]
    },
    {
     "name": "stderr",
     "output_type": "stream",
     "text": [
      "C:\\Users\\rabhi\\anaconda3\\lib\\site-packages\\xgboost\\sklearn.py:1224: UserWarning: The use of label encoder in XGBClassifier is deprecated and will be removed in a future release. To remove this warning, do the following: 1) Pass option use_label_encoder=False when constructing XGBClassifier object; and 2) Encode your labels (y) as integers starting with 0, i.e. 0, 1, 2, ..., [num_class - 1].\n",
      "  warnings.warn(label_encoder_deprecation_msg, UserWarning)\n"
     ]
    },
    {
     "name": "stdout",
     "output_type": "stream",
     "text": [
      "[12:46:27] WARNING: ..\\src\\learner.cc:1115: Starting in XGBoost 1.3.0, the default evaluation metric used with the objective 'binary:logistic' was changed from 'error' to 'logloss'. Explicitly set eval_metric if you'd like to restore the old behavior.\n",
      "The best model is: Decision Trees with a score of 0.998\n"
     ]
    },
    {
     "data": {
      "image/png": "[encoded data removed]",
      "text/plain": [
       "<Figure size 1080x360 with 1 Axes>"
      ]
     },
     "metadata": {
      "needs_background": "light"
     },
     "output_type": "display_data"
    }
   ],
   "source": [
    "models = {\n",
    "    'logistic': lr,\n",
    "    'Decision Trees': dt,\n",
    "    'Random Forest': rf ,\n",
    "    'XGBoost': xg\n",
    "}\n",
    "\n",
    "benchmark = Benchmark(models)\n",
    "print(benchmark.test_models())\n",
    "benchmark.plot_cv_results()"
   ]
  },
  {
   "cell_type": "code",
   "execution_count": null,
   "id": "b56addc5",
   "metadata": {},
   "outputs": [],
   "source": []
  },
  {
   "cell_type": "code",
   "execution_count": null,
   "id": "7de578cb",
   "metadata": {},
   "outputs": [],
   "source": []
  },
  {
   "cell_type": "code",
   "execution_count": null,
   "id": "7426213e",
   "metadata": {},
   "outputs": [],
   "source": []
  },
  {
   "cell_type": "code",
   "execution_count": null,
   "id": "9b2172e1",
   "metadata": {},
   "outputs": [],
   "source": []
  },
  {
   "cell_type": "code",
   "execution_count": null,
   "id": "cd3f3131",
   "metadata": {},
   "outputs": [],
   "source": []
  }
 ],
 "metadata": {
  "kernelspec": {
   "display_name": "Python 3 (ipykernel)",
   "language": "python",
   "name": "python3"
  },
  "language_info": {
   "codemirror_mode": {
    "name": "ipython",
    "version": 3
   },
   "file_extension": ".py",
   "mimetype": "text/x-python",
   "name": "python",
   "nbconvert_exporter": "python",
   "pygments_lexer": "ipython3",
   "version": "3.9.7"
  }
 },
 "nbformat": 4,
 "nbformat_minor": 5
}
